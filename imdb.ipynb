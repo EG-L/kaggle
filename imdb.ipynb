{
  "nbformat": 4,
  "nbformat_minor": 0,
  "metadata": {
    "colab": {
      "name": "imdb.ipynb",
      "provenance": [],
      "collapsed_sections": [],
      "authorship_tag": "ABX9TyPufptt5UhbX/neIvaQlRzF",
      "include_colab_link": true
    },
    "kernelspec": {
      "display_name": "Python 3",
      "name": "python3"
    },
    "language_info": {
      "name": "python"
    }
  },
  "cells": [
    {
      "cell_type": "markdown",
      "metadata": {
        "id": "view-in-github",
        "colab_type": "text"
      },
      "source": [
        "<a href=\"https://colab.research.google.com/github/EG-L/kaggle/blob/main/imdb.ipynb\" target=\"_parent\"><img src=\"https://colab.research.google.com/assets/colab-badge.svg\" alt=\"Open In Colab\"/></a>"
      ]
    },
    {
      "cell_type": "code",
      "metadata": {
        "id": "SZBRFaJhQZcU"
      },
      "source": [
        "from tensorflow.keras.datasets import imdb"
      ],
      "execution_count": null,
      "outputs": []
    },
    {
      "cell_type": "code",
      "metadata": {
        "colab": {
          "base_uri": "https://localhost:8080/"
        },
        "id": "JjW1NkCfQfaw",
        "outputId": "f3886d8b-4d1f-40fb-c1cb-0fdedb2f8946"
      },
      "source": [
        "(train_data, train_labels), (test_data, test_labels) = imdb.load_data(num_words=10000)"
      ],
      "execution_count": null,
      "outputs": [
        {
          "output_type": "stream",
          "text": [
            "Downloading data from https://storage.googleapis.com/tensorflow/tf-keras-datasets/imdb.npz\n",
            "17465344/17464789 [==============================] - 0s 0us/step\n"
          ],
          "name": "stdout"
        },
        {
          "output_type": "stream",
          "text": [
            "<string>:6: VisibleDeprecationWarning: Creating an ndarray from ragged nested sequences (which is a list-or-tuple of lists-or-tuples-or ndarrays with different lengths or shapes) is deprecated. If you meant to do this, you must specify 'dtype=object' when creating the ndarray\n",
            "/usr/local/lib/python3.7/dist-packages/tensorflow/python/keras/datasets/imdb.py:155: VisibleDeprecationWarning: Creating an ndarray from ragged nested sequences (which is a list-or-tuple of lists-or-tuples-or ndarrays with different lengths or shapes) is deprecated. If you meant to do this, you must specify 'dtype=object' when creating the ndarray\n",
            "  x_train, y_train = np.array(xs[:idx]), np.array(labels[:idx])\n",
            "/usr/local/lib/python3.7/dist-packages/tensorflow/python/keras/datasets/imdb.py:156: VisibleDeprecationWarning: Creating an ndarray from ragged nested sequences (which is a list-or-tuple of lists-or-tuples-or ndarrays with different lengths or shapes) is deprecated. If you meant to do this, you must specify 'dtype=object' when creating the ndarray\n",
            "  x_test, y_test = np.array(xs[idx:]), np.array(labels[idx:])\n"
          ],
          "name": "stderr"
        }
      ]
    },
    {
      "cell_type": "code",
      "metadata": {
        "colab": {
          "base_uri": "https://localhost:8080/"
        },
        "id": "Ir9ZBrGxQfyQ",
        "outputId": "8e06d789-be60-4b34-f9b2-184ba56e405f"
      },
      "source": [
        "print(train_data.shape,train_labels.shape)"
      ],
      "execution_count": null,
      "outputs": [
        {
          "output_type": "stream",
          "text": [
            "(25000,) (25000,)\n"
          ],
          "name": "stdout"
        }
      ]
    },
    {
      "cell_type": "code",
      "metadata": {
        "id": "jOPGH-1yQsjE"
      },
      "source": [
        "import numpy as np"
      ],
      "execution_count": null,
      "outputs": []
    },
    {
      "cell_type": "code",
      "metadata": {
        "colab": {
          "base_uri": "https://localhost:8080/"
        },
        "id": "VJZx5zSmQy9L",
        "outputId": "1c175fc2-c07a-4d62-a6c0-ca142fcdaeec"
      },
      "source": [
        "np.unique(train_labels,return_counts=True)\n",
        "# 이진 분류"
      ],
      "execution_count": null,
      "outputs": [
        {
          "output_type": "execute_result",
          "data": {
            "text/plain": [
              "(array([0, 1]), array([12500, 12500]))"
            ]
          },
          "metadata": {
            "tags": []
          },
          "execution_count": 5
        }
      ]
    },
    {
      "cell_type": "code",
      "metadata": {
        "id": "phjCClyKfj23"
      },
      "source": [
        "from tensorflow.keras.preprocessing.sequence import pad_sequences"
      ],
      "execution_count": null,
      "outputs": []
    },
    {
      "cell_type": "code",
      "metadata": {
        "id": "BBWsaPHmfpPR"
      },
      "source": [
        "X_train = pad_sequences(train_data,500)\n",
        "X_test = pad_sequences(test_data,500)"
      ],
      "execution_count": null,
      "outputs": []
    },
    {
      "cell_type": "code",
      "metadata": {
        "id": "A6itw4Y8f1Zq"
      },
      "source": [
        "from tensorflow.keras.models import Sequential\n",
        "from tensorflow.keras.layers import Embedding,GRU,Dense"
      ],
      "execution_count": null,
      "outputs": []
    },
    {
      "cell_type": "code",
      "metadata": {
        "id": "tprdtrvZf6U1"
      },
      "source": [
        "model = Sequential()\n",
        "model.add(Embedding(10000,100))\n",
        "model.add(GRU(128))\n",
        "model.add(Dense(1,activation='sigmoid'))\n",
        "#Embedding은 첫 번째 인자는 단어 집합의 크기 10000으로 잡아줬기에 10000을 넣어주며 입력데이터에서 100차원의 임베딩 벡터로 표시\n",
        "#gru의 은닉층 사이즈를 128로 만듬\n",
        "#이진 분류이기에 맨 마지막 출력을 1과 sigmoid 함수를 줌"
      ],
      "execution_count": null,
      "outputs": []
    },
    {
      "cell_type": "code",
      "metadata": {
        "colab": {
          "base_uri": "https://localhost:8080/"
        },
        "id": "-jkekBi2hEfi",
        "outputId": "d127801f-ea00-462c-943e-e3a4a79454fb"
      },
      "source": [
        "model.summary()"
      ],
      "execution_count": null,
      "outputs": [
        {
          "output_type": "stream",
          "text": [
            "Model: \"sequential_1\"\n",
            "_________________________________________________________________\n",
            "Layer (type)                 Output Shape              Param #   \n",
            "=================================================================\n",
            "embedding_1 (Embedding)      (None, None, 100)         1000000   \n",
            "_________________________________________________________________\n",
            "gru_1 (GRU)                  (None, 128)               88320     \n",
            "_________________________________________________________________\n",
            "dense_1 (Dense)              (None, 1)                 129       \n",
            "=================================================================\n",
            "Total params: 1,088,449\n",
            "Trainable params: 1,088,449\n",
            "Non-trainable params: 0\n",
            "_________________________________________________________________\n"
          ],
          "name": "stdout"
        }
      ]
    },
    {
      "cell_type": "code",
      "metadata": {
        "id": "lE0BP4QLgPCu"
      },
      "source": [
        "model.compile(optimizer='adam',loss='binary_crossentropy',metrics=['accuracy'])"
      ],
      "execution_count": null,
      "outputs": []
    },
    {
      "cell_type": "code",
      "metadata": {
        "colab": {
          "background_save": true,
          "base_uri": "https://localhost:8080/"
        },
        "id": "Rdn1URw6gYmO",
        "outputId": "68329dfb-2ac1-413a-f6e9-c01f714add28"
      },
      "source": [
        "history = model.fit(X_train,train_labels,epochs=10,batch_size=60,validation_data=(X_test,test_labels))"
      ],
      "execution_count": null,
      "outputs": [
        {
          "output_type": "stream",
          "text": [
            "Epoch 1/10\n",
            "417/417 [==============================] - 311s 741ms/step - loss: 0.5062 - accuracy: 0.7398 - val_loss: 0.3717 - val_accuracy: 0.8367\n",
            "Epoch 2/10\n",
            "417/417 [==============================] - 308s 740ms/step - loss: 0.2537 - accuracy: 0.8985 - val_loss: 0.3116 - val_accuracy: 0.8701\n",
            "Epoch 3/10\n",
            "417/417 [==============================] - 307s 737ms/step - loss: 0.1614 - accuracy: 0.9407 - val_loss: 0.3304 - val_accuracy: 0.8700\n",
            "Epoch 4/10\n",
            "417/417 [==============================] - 311s 747ms/step - loss: 0.1004 - accuracy: 0.9652 - val_loss: 0.3912 - val_accuracy: 0.8746\n",
            "Epoch 5/10\n",
            "417/417 [==============================] - 312s 750ms/step - loss: 0.0664 - accuracy: 0.9768 - val_loss: 0.4132 - val_accuracy: 0.8763\n",
            "Epoch 6/10\n",
            "417/417 [==============================] - 312s 749ms/step - loss: 0.0411 - accuracy: 0.9867 - val_loss: 0.5512 - val_accuracy: 0.8602\n",
            "Epoch 7/10\n",
            "417/417 [==============================] - 309s 741ms/step - loss: 0.0291 - accuracy: 0.9906 - val_loss: 0.5614 - val_accuracy: 0.8670\n",
            "Epoch 8/10\n",
            "417/417 [==============================] - 307s 737ms/step - loss: 0.0245 - accuracy: 0.9923 - val_loss: 0.5913 - val_accuracy: 0.8650\n",
            "Epoch 9/10\n",
            "417/417 [==============================] - 306s 735ms/step - loss: 0.0199 - accuracy: 0.9944 - val_loss: 0.6230 - val_accuracy: 0.8605\n",
            "Epoch 10/10\n",
            "417/417 [==============================] - 309s 740ms/step - loss: 0.0158 - accuracy: 0.9951 - val_loss: 0.6472 - val_accuracy: 0.8664\n"
          ],
          "name": "stdout"
        }
      ]
    },
    {
      "cell_type": "code",
      "metadata": {
        "id": "5j9sLPgtglKz"
      },
      "source": [
        ""
      ],
      "execution_count": null,
      "outputs": []
    }
  ]
}