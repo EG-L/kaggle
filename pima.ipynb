{
  "nbformat": 4,
  "nbformat_minor": 0,
  "metadata": {
    "colab": {
      "name": "pima.ipynb",
      "provenance": [],
      "collapsed_sections": [],
      "mount_file_id": "1hXzLEVspuU7Xt60dI-4ecvGfYENsVzKq",
      "authorship_tag": "ABX9TyMqn4keU2di5fl5c3N6Xf03",
      "include_colab_link": true
    },
    "kernelspec": {
      "name": "python3",
      "display_name": "Python 3"
    },
    "language_info": {
      "name": "python"
    }
  },
  "cells": [
    {
      "cell_type": "markdown",
      "metadata": {
        "id": "view-in-github",
        "colab_type": "text"
      },
      "source": [
        "<a href=\"https://colab.research.google.com/github/EG-L/kaggle/blob/main/pima.ipynb\" target=\"_parent\"><img src=\"https://colab.research.google.com/assets/colab-badge.svg\" alt=\"Open In Colab\"/></a>"
      ]
    },
    {
      "cell_type": "code",
      "metadata": {
        "colab": {
          "base_uri": "https://localhost:8080/"
        },
        "id": "TlWzILyrReFv",
        "outputId": "a1bd0915-3513-47d4-f1f4-4938277a9264"
      },
      "source": [
        "!unzip /content/drive/MyDrive/PimaIndiansDiabetes/pima.zip"
      ],
      "execution_count": 99,
      "outputs": [
        {
          "output_type": "stream",
          "text": [
            "Archive:  /content/drive/MyDrive/PimaIndiansDiabetes/pima.zip\n",
            "replace diabetes.csv? [y]es, [n]o, [A]ll, [N]one, [r]ename: y\n",
            "  inflating: diabetes.csv            \n"
          ],
          "name": "stdout"
        }
      ]
    },
    {
      "cell_type": "code",
      "metadata": {
        "id": "RoPVFAdlRmHP"
      },
      "source": [
        "import numpy as np\n",
        "import pandas as pd"
      ],
      "execution_count": 100,
      "outputs": []
    },
    {
      "cell_type": "code",
      "metadata": {
        "id": "OrZwv5AZSIUn"
      },
      "source": [
        "df = pd.read_csv('diabetes.csv')"
      ],
      "execution_count": 101,
      "outputs": []
    },
    {
      "cell_type": "code",
      "metadata": {
        "colab": {
          "base_uri": "https://localhost:8080/",
          "height": 419
        },
        "id": "L4V9FJ7DSOWU",
        "outputId": "e1af3121-22a5-4047-f437-8b8a3b9246ef"
      },
      "source": [
        "df"
      ],
      "execution_count": 102,
      "outputs": [
        {
          "output_type": "execute_result",
          "data": {
            "text/html": [
              "<div>\n",
              "<style scoped>\n",
              "    .dataframe tbody tr th:only-of-type {\n",
              "        vertical-align: middle;\n",
              "    }\n",
              "\n",
              "    .dataframe tbody tr th {\n",
              "        vertical-align: top;\n",
              "    }\n",
              "\n",
              "    .dataframe thead th {\n",
              "        text-align: right;\n",
              "    }\n",
              "</style>\n",
              "<table border=\"1\" class=\"dataframe\">\n",
              "  <thead>\n",
              "    <tr style=\"text-align: right;\">\n",
              "      <th></th>\n",
              "      <th>Pregnancies</th>\n",
              "      <th>Glucose</th>\n",
              "      <th>BloodPressure</th>\n",
              "      <th>SkinThickness</th>\n",
              "      <th>Insulin</th>\n",
              "      <th>BMI</th>\n",
              "      <th>DiabetesPedigreeFunction</th>\n",
              "      <th>Age</th>\n",
              "      <th>Outcome</th>\n",
              "    </tr>\n",
              "  </thead>\n",
              "  <tbody>\n",
              "    <tr>\n",
              "      <th>0</th>\n",
              "      <td>6</td>\n",
              "      <td>148</td>\n",
              "      <td>72</td>\n",
              "      <td>35</td>\n",
              "      <td>0</td>\n",
              "      <td>33.6</td>\n",
              "      <td>0.627</td>\n",
              "      <td>50</td>\n",
              "      <td>1</td>\n",
              "    </tr>\n",
              "    <tr>\n",
              "      <th>1</th>\n",
              "      <td>1</td>\n",
              "      <td>85</td>\n",
              "      <td>66</td>\n",
              "      <td>29</td>\n",
              "      <td>0</td>\n",
              "      <td>26.6</td>\n",
              "      <td>0.351</td>\n",
              "      <td>31</td>\n",
              "      <td>0</td>\n",
              "    </tr>\n",
              "    <tr>\n",
              "      <th>2</th>\n",
              "      <td>8</td>\n",
              "      <td>183</td>\n",
              "      <td>64</td>\n",
              "      <td>0</td>\n",
              "      <td>0</td>\n",
              "      <td>23.3</td>\n",
              "      <td>0.672</td>\n",
              "      <td>32</td>\n",
              "      <td>1</td>\n",
              "    </tr>\n",
              "    <tr>\n",
              "      <th>3</th>\n",
              "      <td>1</td>\n",
              "      <td>89</td>\n",
              "      <td>66</td>\n",
              "      <td>23</td>\n",
              "      <td>94</td>\n",
              "      <td>28.1</td>\n",
              "      <td>0.167</td>\n",
              "      <td>21</td>\n",
              "      <td>0</td>\n",
              "    </tr>\n",
              "    <tr>\n",
              "      <th>4</th>\n",
              "      <td>0</td>\n",
              "      <td>137</td>\n",
              "      <td>40</td>\n",
              "      <td>35</td>\n",
              "      <td>168</td>\n",
              "      <td>43.1</td>\n",
              "      <td>2.288</td>\n",
              "      <td>33</td>\n",
              "      <td>1</td>\n",
              "    </tr>\n",
              "    <tr>\n",
              "      <th>...</th>\n",
              "      <td>...</td>\n",
              "      <td>...</td>\n",
              "      <td>...</td>\n",
              "      <td>...</td>\n",
              "      <td>...</td>\n",
              "      <td>...</td>\n",
              "      <td>...</td>\n",
              "      <td>...</td>\n",
              "      <td>...</td>\n",
              "    </tr>\n",
              "    <tr>\n",
              "      <th>763</th>\n",
              "      <td>10</td>\n",
              "      <td>101</td>\n",
              "      <td>76</td>\n",
              "      <td>48</td>\n",
              "      <td>180</td>\n",
              "      <td>32.9</td>\n",
              "      <td>0.171</td>\n",
              "      <td>63</td>\n",
              "      <td>0</td>\n",
              "    </tr>\n",
              "    <tr>\n",
              "      <th>764</th>\n",
              "      <td>2</td>\n",
              "      <td>122</td>\n",
              "      <td>70</td>\n",
              "      <td>27</td>\n",
              "      <td>0</td>\n",
              "      <td>36.8</td>\n",
              "      <td>0.340</td>\n",
              "      <td>27</td>\n",
              "      <td>0</td>\n",
              "    </tr>\n",
              "    <tr>\n",
              "      <th>765</th>\n",
              "      <td>5</td>\n",
              "      <td>121</td>\n",
              "      <td>72</td>\n",
              "      <td>23</td>\n",
              "      <td>112</td>\n",
              "      <td>26.2</td>\n",
              "      <td>0.245</td>\n",
              "      <td>30</td>\n",
              "      <td>0</td>\n",
              "    </tr>\n",
              "    <tr>\n",
              "      <th>766</th>\n",
              "      <td>1</td>\n",
              "      <td>126</td>\n",
              "      <td>60</td>\n",
              "      <td>0</td>\n",
              "      <td>0</td>\n",
              "      <td>30.1</td>\n",
              "      <td>0.349</td>\n",
              "      <td>47</td>\n",
              "      <td>1</td>\n",
              "    </tr>\n",
              "    <tr>\n",
              "      <th>767</th>\n",
              "      <td>1</td>\n",
              "      <td>93</td>\n",
              "      <td>70</td>\n",
              "      <td>31</td>\n",
              "      <td>0</td>\n",
              "      <td>30.4</td>\n",
              "      <td>0.315</td>\n",
              "      <td>23</td>\n",
              "      <td>0</td>\n",
              "    </tr>\n",
              "  </tbody>\n",
              "</table>\n",
              "<p>768 rows × 9 columns</p>\n",
              "</div>"
            ],
            "text/plain": [
              "     Pregnancies  Glucose  ...  Age  Outcome\n",
              "0              6      148  ...   50        1\n",
              "1              1       85  ...   31        0\n",
              "2              8      183  ...   32        1\n",
              "3              1       89  ...   21        0\n",
              "4              0      137  ...   33        1\n",
              "..           ...      ...  ...  ...      ...\n",
              "763           10      101  ...   63        0\n",
              "764            2      122  ...   27        0\n",
              "765            5      121  ...   30        0\n",
              "766            1      126  ...   47        1\n",
              "767            1       93  ...   23        0\n",
              "\n",
              "[768 rows x 9 columns]"
            ]
          },
          "metadata": {
            "tags": []
          },
          "execution_count": 102
        }
      ]
    },
    {
      "cell_type": "code",
      "metadata": {
        "id": "pLHtv3gOSUjw"
      },
      "source": [
        "from tensorflow import keras\n",
        "from sklearn.model_selection import train_test_split\n",
        "from tensorflow.keras.models import Sequential\n",
        "from tensorflow.keras.layers import Dense"
      ],
      "execution_count": 103,
      "outputs": []
    },
    {
      "cell_type": "code",
      "metadata": {
        "colab": {
          "base_uri": "https://localhost:8080/"
        },
        "id": "P6f0AjaXSd9_",
        "outputId": "cc45f893-dbd0-4a64-8ac1-20ccc7955807"
      },
      "source": [
        "df.isna().sum()"
      ],
      "execution_count": 104,
      "outputs": [
        {
          "output_type": "execute_result",
          "data": {
            "text/plain": [
              "Pregnancies                 0\n",
              "Glucose                     0\n",
              "BloodPressure               0\n",
              "SkinThickness               0\n",
              "Insulin                     0\n",
              "BMI                         0\n",
              "DiabetesPedigreeFunction    0\n",
              "Age                         0\n",
              "Outcome                     0\n",
              "dtype: int64"
            ]
          },
          "metadata": {
            "tags": []
          },
          "execution_count": 104
        }
      ]
    },
    {
      "cell_type": "code",
      "metadata": {
        "colab": {
          "base_uri": "https://localhost:8080/",
          "height": 297
        },
        "id": "Uf2Fim42TSn5",
        "outputId": "dcfdb84e-2590-40ec-b3c6-0c0bb44b3cdc"
      },
      "source": [
        "df.describe()"
      ],
      "execution_count": 105,
      "outputs": [
        {
          "output_type": "execute_result",
          "data": {
            "text/html": [
              "<div>\n",
              "<style scoped>\n",
              "    .dataframe tbody tr th:only-of-type {\n",
              "        vertical-align: middle;\n",
              "    }\n",
              "\n",
              "    .dataframe tbody tr th {\n",
              "        vertical-align: top;\n",
              "    }\n",
              "\n",
              "    .dataframe thead th {\n",
              "        text-align: right;\n",
              "    }\n",
              "</style>\n",
              "<table border=\"1\" class=\"dataframe\">\n",
              "  <thead>\n",
              "    <tr style=\"text-align: right;\">\n",
              "      <th></th>\n",
              "      <th>Pregnancies</th>\n",
              "      <th>Glucose</th>\n",
              "      <th>BloodPressure</th>\n",
              "      <th>SkinThickness</th>\n",
              "      <th>Insulin</th>\n",
              "      <th>BMI</th>\n",
              "      <th>DiabetesPedigreeFunction</th>\n",
              "      <th>Age</th>\n",
              "      <th>Outcome</th>\n",
              "    </tr>\n",
              "  </thead>\n",
              "  <tbody>\n",
              "    <tr>\n",
              "      <th>count</th>\n",
              "      <td>768.000000</td>\n",
              "      <td>768.000000</td>\n",
              "      <td>768.000000</td>\n",
              "      <td>768.000000</td>\n",
              "      <td>768.000000</td>\n",
              "      <td>768.000000</td>\n",
              "      <td>768.000000</td>\n",
              "      <td>768.000000</td>\n",
              "      <td>768.000000</td>\n",
              "    </tr>\n",
              "    <tr>\n",
              "      <th>mean</th>\n",
              "      <td>3.845052</td>\n",
              "      <td>120.894531</td>\n",
              "      <td>69.105469</td>\n",
              "      <td>20.536458</td>\n",
              "      <td>79.799479</td>\n",
              "      <td>31.992578</td>\n",
              "      <td>0.471876</td>\n",
              "      <td>33.240885</td>\n",
              "      <td>0.348958</td>\n",
              "    </tr>\n",
              "    <tr>\n",
              "      <th>std</th>\n",
              "      <td>3.369578</td>\n",
              "      <td>31.972618</td>\n",
              "      <td>19.355807</td>\n",
              "      <td>15.952218</td>\n",
              "      <td>115.244002</td>\n",
              "      <td>7.884160</td>\n",
              "      <td>0.331329</td>\n",
              "      <td>11.760232</td>\n",
              "      <td>0.476951</td>\n",
              "    </tr>\n",
              "    <tr>\n",
              "      <th>min</th>\n",
              "      <td>0.000000</td>\n",
              "      <td>0.000000</td>\n",
              "      <td>0.000000</td>\n",
              "      <td>0.000000</td>\n",
              "      <td>0.000000</td>\n",
              "      <td>0.000000</td>\n",
              "      <td>0.078000</td>\n",
              "      <td>21.000000</td>\n",
              "      <td>0.000000</td>\n",
              "    </tr>\n",
              "    <tr>\n",
              "      <th>25%</th>\n",
              "      <td>1.000000</td>\n",
              "      <td>99.000000</td>\n",
              "      <td>62.000000</td>\n",
              "      <td>0.000000</td>\n",
              "      <td>0.000000</td>\n",
              "      <td>27.300000</td>\n",
              "      <td>0.243750</td>\n",
              "      <td>24.000000</td>\n",
              "      <td>0.000000</td>\n",
              "    </tr>\n",
              "    <tr>\n",
              "      <th>50%</th>\n",
              "      <td>3.000000</td>\n",
              "      <td>117.000000</td>\n",
              "      <td>72.000000</td>\n",
              "      <td>23.000000</td>\n",
              "      <td>30.500000</td>\n",
              "      <td>32.000000</td>\n",
              "      <td>0.372500</td>\n",
              "      <td>29.000000</td>\n",
              "      <td>0.000000</td>\n",
              "    </tr>\n",
              "    <tr>\n",
              "      <th>75%</th>\n",
              "      <td>6.000000</td>\n",
              "      <td>140.250000</td>\n",
              "      <td>80.000000</td>\n",
              "      <td>32.000000</td>\n",
              "      <td>127.250000</td>\n",
              "      <td>36.600000</td>\n",
              "      <td>0.626250</td>\n",
              "      <td>41.000000</td>\n",
              "      <td>1.000000</td>\n",
              "    </tr>\n",
              "    <tr>\n",
              "      <th>max</th>\n",
              "      <td>17.000000</td>\n",
              "      <td>199.000000</td>\n",
              "      <td>122.000000</td>\n",
              "      <td>99.000000</td>\n",
              "      <td>846.000000</td>\n",
              "      <td>67.100000</td>\n",
              "      <td>2.420000</td>\n",
              "      <td>81.000000</td>\n",
              "      <td>1.000000</td>\n",
              "    </tr>\n",
              "  </tbody>\n",
              "</table>\n",
              "</div>"
            ],
            "text/plain": [
              "       Pregnancies     Glucose  ...         Age     Outcome\n",
              "count   768.000000  768.000000  ...  768.000000  768.000000\n",
              "mean      3.845052  120.894531  ...   33.240885    0.348958\n",
              "std       3.369578   31.972618  ...   11.760232    0.476951\n",
              "min       0.000000    0.000000  ...   21.000000    0.000000\n",
              "25%       1.000000   99.000000  ...   24.000000    0.000000\n",
              "50%       3.000000  117.000000  ...   29.000000    0.000000\n",
              "75%       6.000000  140.250000  ...   41.000000    1.000000\n",
              "max      17.000000  199.000000  ...   81.000000    1.000000\n",
              "\n",
              "[8 rows x 9 columns]"
            ]
          },
          "metadata": {
            "tags": []
          },
          "execution_count": 105
        }
      ]
    },
    {
      "cell_type": "code",
      "metadata": {
        "colab": {
          "base_uri": "https://localhost:8080/"
        },
        "id": "RYw7bLJJTUUv",
        "outputId": "ab82ea99-49e7-4713-9b17-6368d3312280"
      },
      "source": [
        "df.info()"
      ],
      "execution_count": 106,
      "outputs": [
        {
          "output_type": "stream",
          "text": [
            "<class 'pandas.core.frame.DataFrame'>\n",
            "RangeIndex: 768 entries, 0 to 767\n",
            "Data columns (total 9 columns):\n",
            " #   Column                    Non-Null Count  Dtype  \n",
            "---  ------                    --------------  -----  \n",
            " 0   Pregnancies               768 non-null    int64  \n",
            " 1   Glucose                   768 non-null    int64  \n",
            " 2   BloodPressure             768 non-null    int64  \n",
            " 3   SkinThickness             768 non-null    int64  \n",
            " 4   Insulin                   768 non-null    int64  \n",
            " 5   BMI                       768 non-null    float64\n",
            " 6   DiabetesPedigreeFunction  768 non-null    float64\n",
            " 7   Age                       768 non-null    int64  \n",
            " 8   Outcome                   768 non-null    int64  \n",
            "dtypes: float64(2), int64(7)\n",
            "memory usage: 54.1 KB\n"
          ],
          "name": "stdout"
        }
      ]
    },
    {
      "cell_type": "code",
      "metadata": {
        "id": "J2OxbrhHTVuq"
      },
      "source": [
        "X = df.drop(['Outcome'],axis=1)\n",
        "y = df['Outcome']"
      ],
      "execution_count": 107,
      "outputs": []
    },
    {
      "cell_type": "code",
      "metadata": {
        "id": "QNHcoYYYTfQX"
      },
      "source": [
        "X_train,X_test,y_train,y_test = train_test_split(X,y,random_state=42)"
      ],
      "execution_count": 108,
      "outputs": []
    },
    {
      "cell_type": "code",
      "metadata": {
        "colab": {
          "base_uri": "https://localhost:8080/"
        },
        "id": "YU9QLDOSTvLn",
        "outputId": "b0a6a4d5-98e6-49eb-d607-6ea6c41c9d9a"
      },
      "source": [
        "print(X_train.shape,y_train.shape)"
      ],
      "execution_count": 109,
      "outputs": [
        {
          "output_type": "stream",
          "text": [
            "(576, 8) (576,)\n"
          ],
          "name": "stdout"
        }
      ]
    },
    {
      "cell_type": "code",
      "metadata": {
        "colab": {
          "base_uri": "https://localhost:8080/"
        },
        "id": "hJQyRwZ1UJbH",
        "outputId": "756926ac-2784-46f1-eb27-4868b7d5d975"
      },
      "source": [
        "print(X_test.shape,y_test.shape)"
      ],
      "execution_count": 110,
      "outputs": [
        {
          "output_type": "stream",
          "text": [
            "(192, 8) (192,)\n"
          ],
          "name": "stdout"
        }
      ]
    },
    {
      "cell_type": "code",
      "metadata": {
        "colab": {
          "base_uri": "https://localhost:8080/"
        },
        "id": "VflmpgrGUOp7",
        "outputId": "0738ed5c-63c0-4ea0-dc73-c17591ac5bba"
      },
      "source": [
        "np.unique(y_train,return_counts=True)\n",
        "# 이진분류 마지막 계층 활성화 함수 sigmoid"
      ],
      "execution_count": 111,
      "outputs": [
        {
          "output_type": "execute_result",
          "data": {
            "text/plain": [
              "(array([0, 1]), array([377, 199]))"
            ]
          },
          "metadata": {
            "tags": []
          },
          "execution_count": 111
        }
      ]
    },
    {
      "cell_type": "code",
      "metadata": {
        "id": "U8mcgYvPVd_d"
      },
      "source": [
        "model = keras.Sequential()\n",
        "model.add(Dense(16, input_dim=8,activation='relu'))\n",
        "model.add(Dense(8,activation='relu'))\n",
        "model.add(Dense(1,activation='sigmoid'))"
      ],
      "execution_count": 112,
      "outputs": []
    },
    {
      "cell_type": "code",
      "metadata": {
        "colab": {
          "base_uri": "https://localhost:8080/"
        },
        "id": "Skj4mIVz2SVM",
        "outputId": "a145a0e2-b879-4f19-9076-f0fc73cfd191"
      },
      "source": [
        "model.summary()"
      ],
      "execution_count": 113,
      "outputs": [
        {
          "output_type": "stream",
          "text": [
            "Model: \"sequential_7\"\n",
            "_________________________________________________________________\n",
            "Layer (type)                 Output Shape              Param #   \n",
            "=================================================================\n",
            "dense_21 (Dense)             (None, 16)                144       \n",
            "_________________________________________________________________\n",
            "dense_22 (Dense)             (None, 8)                 136       \n",
            "_________________________________________________________________\n",
            "dense_23 (Dense)             (None, 1)                 9         \n",
            "=================================================================\n",
            "Total params: 289\n",
            "Trainable params: 289\n",
            "Non-trainable params: 0\n",
            "_________________________________________________________________\n"
          ],
          "name": "stdout"
        }
      ]
    },
    {
      "cell_type": "code",
      "metadata": {
        "colab": {
          "base_uri": "https://localhost:8080/"
        },
        "id": "xLyAFi5vbb8v",
        "outputId": "830cdde5-39dd-41c0-99a7-c4c3e19c301f"
      },
      "source": [
        "model.compile(optimizer='adagrad',loss='binary_crossentropy',metrics=['accuracy'])\n",
        "history = model.fit(X_train,y_train,epochs=200,validation_data=(X_test,y_test))"
      ],
      "execution_count": 114,
      "outputs": [
        {
          "output_type": "stream",
          "text": [
            "Epoch 1/200\n",
            "18/18 [==============================] - 1s 11ms/step - loss: 2.5233 - accuracy: 0.5660 - val_loss: 2.4785 - val_accuracy: 0.5312\n",
            "Epoch 2/200\n",
            "18/18 [==============================] - 0s 4ms/step - loss: 2.2804 - accuracy: 0.5799 - val_loss: 2.2921 - val_accuracy: 0.5365\n",
            "Epoch 3/200\n",
            "18/18 [==============================] - 0s 4ms/step - loss: 2.1385 - accuracy: 0.5868 - val_loss: 2.1610 - val_accuracy: 0.5469\n",
            "Epoch 4/200\n",
            "18/18 [==============================] - 0s 4ms/step - loss: 2.0332 - accuracy: 0.5938 - val_loss: 2.0586 - val_accuracy: 0.5469\n",
            "Epoch 5/200\n",
            "18/18 [==============================] - 0s 4ms/step - loss: 1.9469 - accuracy: 0.6059 - val_loss: 1.9748 - val_accuracy: 0.5573\n",
            "Epoch 6/200\n",
            "18/18 [==============================] - 0s 3ms/step - loss: 1.8738 - accuracy: 0.6059 - val_loss: 1.9028 - val_accuracy: 0.5781\n",
            "Epoch 7/200\n",
            "18/18 [==============================] - 0s 3ms/step - loss: 1.8095 - accuracy: 0.6094 - val_loss: 1.8381 - val_accuracy: 0.5781\n",
            "Epoch 8/200\n",
            "18/18 [==============================] - 0s 4ms/step - loss: 1.7528 - accuracy: 0.6128 - val_loss: 1.7804 - val_accuracy: 0.5677\n",
            "Epoch 9/200\n",
            "18/18 [==============================] - 0s 3ms/step - loss: 1.7018 - accuracy: 0.6128 - val_loss: 1.7290 - val_accuracy: 0.5729\n",
            "Epoch 10/200\n",
            "18/18 [==============================] - 0s 4ms/step - loss: 1.6560 - accuracy: 0.6146 - val_loss: 1.6822 - val_accuracy: 0.5833\n",
            "Epoch 11/200\n",
            "18/18 [==============================] - 0s 3ms/step - loss: 1.6145 - accuracy: 0.6128 - val_loss: 1.6395 - val_accuracy: 0.5833\n",
            "Epoch 12/200\n",
            "18/18 [==============================] - 0s 3ms/step - loss: 1.5763 - accuracy: 0.6198 - val_loss: 1.5996 - val_accuracy: 0.5885\n",
            "Epoch 13/200\n",
            "18/18 [==============================] - 0s 3ms/step - loss: 1.5405 - accuracy: 0.6198 - val_loss: 1.5622 - val_accuracy: 0.5885\n",
            "Epoch 14/200\n",
            "18/18 [==============================] - 0s 4ms/step - loss: 1.5068 - accuracy: 0.6198 - val_loss: 1.5273 - val_accuracy: 0.5833\n",
            "Epoch 15/200\n",
            "18/18 [==============================] - 0s 3ms/step - loss: 1.4756 - accuracy: 0.6181 - val_loss: 1.4946 - val_accuracy: 0.5781\n",
            "Epoch 16/200\n",
            "18/18 [==============================] - 0s 3ms/step - loss: 1.4467 - accuracy: 0.6163 - val_loss: 1.4641 - val_accuracy: 0.5781\n",
            "Epoch 17/200\n",
            "18/18 [==============================] - 0s 4ms/step - loss: 1.4191 - accuracy: 0.6198 - val_loss: 1.4354 - val_accuracy: 0.5781\n",
            "Epoch 18/200\n",
            "18/18 [==============================] - 0s 3ms/step - loss: 1.3933 - accuracy: 0.6233 - val_loss: 1.4085 - val_accuracy: 0.5781\n",
            "Epoch 19/200\n",
            "18/18 [==============================] - 0s 3ms/step - loss: 1.3693 - accuracy: 0.6233 - val_loss: 1.3833 - val_accuracy: 0.5781\n",
            "Epoch 20/200\n",
            "18/18 [==============================] - 0s 3ms/step - loss: 1.3457 - accuracy: 0.6250 - val_loss: 1.3588 - val_accuracy: 0.5833\n",
            "Epoch 21/200\n",
            "18/18 [==============================] - 0s 4ms/step - loss: 1.3234 - accuracy: 0.6250 - val_loss: 1.3353 - val_accuracy: 0.5990\n",
            "Epoch 22/200\n",
            "18/18 [==============================] - 0s 4ms/step - loss: 1.3021 - accuracy: 0.6215 - val_loss: 1.3130 - val_accuracy: 0.6042\n",
            "Epoch 23/200\n",
            "18/18 [==============================] - 0s 3ms/step - loss: 1.2820 - accuracy: 0.6198 - val_loss: 1.2919 - val_accuracy: 0.6042\n",
            "Epoch 24/200\n",
            "18/18 [==============================] - 0s 3ms/step - loss: 1.2623 - accuracy: 0.6215 - val_loss: 1.2714 - val_accuracy: 0.5990\n",
            "Epoch 25/200\n",
            "18/18 [==============================] - 0s 3ms/step - loss: 1.2434 - accuracy: 0.6181 - val_loss: 1.2520 - val_accuracy: 0.5990\n",
            "Epoch 26/200\n",
            "18/18 [==============================] - 0s 3ms/step - loss: 1.2253 - accuracy: 0.6198 - val_loss: 1.2335 - val_accuracy: 0.5990\n",
            "Epoch 27/200\n",
            "18/18 [==============================] - 0s 2ms/step - loss: 1.2081 - accuracy: 0.6215 - val_loss: 1.2159 - val_accuracy: 0.5990\n",
            "Epoch 28/200\n",
            "18/18 [==============================] - 0s 3ms/step - loss: 1.1914 - accuracy: 0.6233 - val_loss: 1.1991 - val_accuracy: 0.5938\n",
            "Epoch 29/200\n",
            "18/18 [==============================] - 0s 3ms/step - loss: 1.1756 - accuracy: 0.6233 - val_loss: 1.1831 - val_accuracy: 0.5938\n",
            "Epoch 30/200\n",
            "18/18 [==============================] - 0s 3ms/step - loss: 1.1604 - accuracy: 0.6250 - val_loss: 1.1676 - val_accuracy: 0.5938\n",
            "Epoch 31/200\n",
            "18/18 [==============================] - 0s 4ms/step - loss: 1.1455 - accuracy: 0.6302 - val_loss: 1.1527 - val_accuracy: 0.5938\n",
            "Epoch 32/200\n",
            "18/18 [==============================] - 0s 3ms/step - loss: 1.1313 - accuracy: 0.6233 - val_loss: 1.1381 - val_accuracy: 0.5938\n",
            "Epoch 33/200\n",
            "18/18 [==============================] - 0s 2ms/step - loss: 1.1172 - accuracy: 0.6285 - val_loss: 1.1239 - val_accuracy: 0.5938\n",
            "Epoch 34/200\n",
            "18/18 [==============================] - 0s 3ms/step - loss: 1.1038 - accuracy: 0.6302 - val_loss: 1.1103 - val_accuracy: 0.5938\n",
            "Epoch 35/200\n",
            "18/18 [==============================] - 0s 3ms/step - loss: 1.0906 - accuracy: 0.6319 - val_loss: 1.0970 - val_accuracy: 0.5938\n",
            "Epoch 36/200\n",
            "18/18 [==============================] - 0s 2ms/step - loss: 1.0777 - accuracy: 0.6267 - val_loss: 1.0841 - val_accuracy: 0.5938\n",
            "Epoch 37/200\n",
            "18/18 [==============================] - 0s 4ms/step - loss: 1.0655 - accuracy: 0.6337 - val_loss: 1.0719 - val_accuracy: 0.5938\n",
            "Epoch 38/200\n",
            "18/18 [==============================] - 0s 3ms/step - loss: 1.0534 - accuracy: 0.6337 - val_loss: 1.0601 - val_accuracy: 0.5938\n",
            "Epoch 39/200\n",
            "18/18 [==============================] - 0s 3ms/step - loss: 1.0419 - accuracy: 0.6337 - val_loss: 1.0488 - val_accuracy: 0.5938\n",
            "Epoch 40/200\n",
            "18/18 [==============================] - 0s 3ms/step - loss: 1.0310 - accuracy: 0.6337 - val_loss: 1.0380 - val_accuracy: 0.5938\n",
            "Epoch 41/200\n",
            "18/18 [==============================] - 0s 4ms/step - loss: 1.0202 - accuracy: 0.6337 - val_loss: 1.0275 - val_accuracy: 0.5938\n",
            "Epoch 42/200\n",
            "18/18 [==============================] - 0s 3ms/step - loss: 1.0098 - accuracy: 0.6319 - val_loss: 1.0175 - val_accuracy: 0.5938\n",
            "Epoch 43/200\n",
            "18/18 [==============================] - 0s 3ms/step - loss: 0.9998 - accuracy: 0.6319 - val_loss: 1.0079 - val_accuracy: 0.5938\n",
            "Epoch 44/200\n",
            "18/18 [==============================] - 0s 3ms/step - loss: 0.9902 - accuracy: 0.6319 - val_loss: 0.9986 - val_accuracy: 0.5990\n",
            "Epoch 45/200\n",
            "18/18 [==============================] - 0s 3ms/step - loss: 0.9807 - accuracy: 0.6319 - val_loss: 0.9894 - val_accuracy: 0.5938\n",
            "Epoch 46/200\n",
            "18/18 [==============================] - 0s 2ms/step - loss: 0.9714 - accuracy: 0.6337 - val_loss: 0.9807 - val_accuracy: 0.5938\n",
            "Epoch 47/200\n",
            "18/18 [==============================] - 0s 3ms/step - loss: 0.9626 - accuracy: 0.6354 - val_loss: 0.9723 - val_accuracy: 0.5938\n",
            "Epoch 48/200\n",
            "18/18 [==============================] - 0s 3ms/step - loss: 0.9539 - accuracy: 0.6337 - val_loss: 0.9642 - val_accuracy: 0.5938\n",
            "Epoch 49/200\n",
            "18/18 [==============================] - 0s 4ms/step - loss: 0.9456 - accuracy: 0.6337 - val_loss: 0.9563 - val_accuracy: 0.5833\n",
            "Epoch 50/200\n",
            "18/18 [==============================] - 0s 3ms/step - loss: 0.9373 - accuracy: 0.6372 - val_loss: 0.9487 - val_accuracy: 0.5833\n",
            "Epoch 51/200\n",
            "18/18 [==============================] - 0s 3ms/step - loss: 0.9297 - accuracy: 0.6354 - val_loss: 0.9412 - val_accuracy: 0.5833\n",
            "Epoch 52/200\n",
            "18/18 [==============================] - 0s 3ms/step - loss: 0.9220 - accuracy: 0.6337 - val_loss: 0.9340 - val_accuracy: 0.5833\n",
            "Epoch 53/200\n",
            "18/18 [==============================] - 0s 3ms/step - loss: 0.9147 - accuracy: 0.6354 - val_loss: 0.9269 - val_accuracy: 0.5833\n",
            "Epoch 54/200\n",
            "18/18 [==============================] - 0s 2ms/step - loss: 0.9077 - accuracy: 0.6337 - val_loss: 0.9202 - val_accuracy: 0.5833\n",
            "Epoch 55/200\n",
            "18/18 [==============================] - 0s 3ms/step - loss: 0.9009 - accuracy: 0.6337 - val_loss: 0.9136 - val_accuracy: 0.5833\n",
            "Epoch 56/200\n",
            "18/18 [==============================] - 0s 3ms/step - loss: 0.8943 - accuracy: 0.6337 - val_loss: 0.9073 - val_accuracy: 0.5833\n",
            "Epoch 57/200\n",
            "18/18 [==============================] - 0s 3ms/step - loss: 0.8880 - accuracy: 0.6319 - val_loss: 0.9013 - val_accuracy: 0.5833\n",
            "Epoch 58/200\n",
            "18/18 [==============================] - 0s 3ms/step - loss: 0.8819 - accuracy: 0.6302 - val_loss: 0.8953 - val_accuracy: 0.5833\n",
            "Epoch 59/200\n",
            "18/18 [==============================] - 0s 3ms/step - loss: 0.8758 - accuracy: 0.6302 - val_loss: 0.8896 - val_accuracy: 0.5833\n",
            "Epoch 60/200\n",
            "18/18 [==============================] - 0s 3ms/step - loss: 0.8701 - accuracy: 0.6319 - val_loss: 0.8841 - val_accuracy: 0.5833\n",
            "Epoch 61/200\n",
            "18/18 [==============================] - 0s 3ms/step - loss: 0.8645 - accuracy: 0.6337 - val_loss: 0.8789 - val_accuracy: 0.5833\n",
            "Epoch 62/200\n",
            "18/18 [==============================] - 0s 3ms/step - loss: 0.8591 - accuracy: 0.6354 - val_loss: 0.8737 - val_accuracy: 0.5833\n",
            "Epoch 63/200\n",
            "18/18 [==============================] - 0s 2ms/step - loss: 0.8538 - accuracy: 0.6337 - val_loss: 0.8688 - val_accuracy: 0.5833\n",
            "Epoch 64/200\n",
            "18/18 [==============================] - 0s 4ms/step - loss: 0.8488 - accuracy: 0.6354 - val_loss: 0.8640 - val_accuracy: 0.5833\n",
            "Epoch 65/200\n",
            "18/18 [==============================] - 0s 3ms/step - loss: 0.8440 - accuracy: 0.6354 - val_loss: 0.8594 - val_accuracy: 0.5885\n",
            "Epoch 66/200\n",
            "18/18 [==============================] - 0s 3ms/step - loss: 0.8393 - accuracy: 0.6354 - val_loss: 0.8549 - val_accuracy: 0.5885\n",
            "Epoch 67/200\n",
            "18/18 [==============================] - 0s 3ms/step - loss: 0.8348 - accuracy: 0.6354 - val_loss: 0.8505 - val_accuracy: 0.5885\n",
            "Epoch 68/200\n",
            "18/18 [==============================] - 0s 3ms/step - loss: 0.8305 - accuracy: 0.6354 - val_loss: 0.8462 - val_accuracy: 0.5885\n",
            "Epoch 69/200\n",
            "18/18 [==============================] - 0s 3ms/step - loss: 0.8262 - accuracy: 0.6354 - val_loss: 0.8420 - val_accuracy: 0.5885\n",
            "Epoch 70/200\n",
            "18/18 [==============================] - 0s 3ms/step - loss: 0.8223 - accuracy: 0.6372 - val_loss: 0.8379 - val_accuracy: 0.5885\n",
            "Epoch 71/200\n",
            "18/18 [==============================] - 0s 3ms/step - loss: 0.8183 - accuracy: 0.6354 - val_loss: 0.8339 - val_accuracy: 0.5885\n",
            "Epoch 72/200\n",
            "18/18 [==============================] - 0s 2ms/step - loss: 0.8144 - accuracy: 0.6372 - val_loss: 0.8299 - val_accuracy: 0.5885\n",
            "Epoch 73/200\n",
            "18/18 [==============================] - 0s 2ms/step - loss: 0.8107 - accuracy: 0.6354 - val_loss: 0.8258 - val_accuracy: 0.5885\n",
            "Epoch 74/200\n",
            "18/18 [==============================] - 0s 3ms/step - loss: 0.8070 - accuracy: 0.6354 - val_loss: 0.8219 - val_accuracy: 0.5885\n",
            "Epoch 75/200\n",
            "18/18 [==============================] - 0s 3ms/step - loss: 0.8034 - accuracy: 0.6319 - val_loss: 0.8181 - val_accuracy: 0.5885\n",
            "Epoch 76/200\n",
            "18/18 [==============================] - 0s 3ms/step - loss: 0.7999 - accuracy: 0.6337 - val_loss: 0.8143 - val_accuracy: 0.5885\n",
            "Epoch 77/200\n",
            "18/18 [==============================] - 0s 4ms/step - loss: 0.7966 - accuracy: 0.6337 - val_loss: 0.8106 - val_accuracy: 0.5885\n",
            "Epoch 78/200\n",
            "18/18 [==============================] - 0s 4ms/step - loss: 0.7932 - accuracy: 0.6319 - val_loss: 0.8070 - val_accuracy: 0.5938\n",
            "Epoch 79/200\n",
            "18/18 [==============================] - 0s 3ms/step - loss: 0.7899 - accuracy: 0.6337 - val_loss: 0.8036 - val_accuracy: 0.5938\n",
            "Epoch 80/200\n",
            "18/18 [==============================] - 0s 4ms/step - loss: 0.7869 - accuracy: 0.6337 - val_loss: 0.8003 - val_accuracy: 0.5885\n",
            "Epoch 81/200\n",
            "18/18 [==============================] - 0s 3ms/step - loss: 0.7839 - accuracy: 0.6337 - val_loss: 0.7971 - val_accuracy: 0.5885\n",
            "Epoch 82/200\n",
            "18/18 [==============================] - 0s 3ms/step - loss: 0.7810 - accuracy: 0.6337 - val_loss: 0.7940 - val_accuracy: 0.5938\n",
            "Epoch 83/200\n",
            "18/18 [==============================] - 0s 2ms/step - loss: 0.7783 - accuracy: 0.6354 - val_loss: 0.7910 - val_accuracy: 0.5938\n",
            "Epoch 84/200\n",
            "18/18 [==============================] - 0s 3ms/step - loss: 0.7756 - accuracy: 0.6372 - val_loss: 0.7881 - val_accuracy: 0.5938\n",
            "Epoch 85/200\n",
            "18/18 [==============================] - 0s 3ms/step - loss: 0.7729 - accuracy: 0.6372 - val_loss: 0.7853 - val_accuracy: 0.5938\n",
            "Epoch 86/200\n",
            "18/18 [==============================] - 0s 4ms/step - loss: 0.7703 - accuracy: 0.6372 - val_loss: 0.7825 - val_accuracy: 0.5938\n",
            "Epoch 87/200\n",
            "18/18 [==============================] - 0s 4ms/step - loss: 0.7677 - accuracy: 0.6389 - val_loss: 0.7798 - val_accuracy: 0.5938\n",
            "Epoch 88/200\n",
            "18/18 [==============================] - 0s 2ms/step - loss: 0.7652 - accuracy: 0.6406 - val_loss: 0.7771 - val_accuracy: 0.5885\n",
            "Epoch 89/200\n",
            "18/18 [==============================] - 0s 3ms/step - loss: 0.7627 - accuracy: 0.6406 - val_loss: 0.7746 - val_accuracy: 0.5885\n",
            "Epoch 90/200\n",
            "18/18 [==============================] - 0s 4ms/step - loss: 0.7604 - accuracy: 0.6406 - val_loss: 0.7721 - val_accuracy: 0.5885\n",
            "Epoch 91/200\n",
            "18/18 [==============================] - 0s 3ms/step - loss: 0.7580 - accuracy: 0.6406 - val_loss: 0.7697 - val_accuracy: 0.5885\n",
            "Epoch 92/200\n",
            "18/18 [==============================] - 0s 3ms/step - loss: 0.7558 - accuracy: 0.6458 - val_loss: 0.7673 - val_accuracy: 0.5990\n",
            "Epoch 93/200\n",
            "18/18 [==============================] - 0s 4ms/step - loss: 0.7537 - accuracy: 0.6458 - val_loss: 0.7651 - val_accuracy: 0.5990\n",
            "Epoch 94/200\n",
            "18/18 [==============================] - 0s 3ms/step - loss: 0.7516 - accuracy: 0.6476 - val_loss: 0.7629 - val_accuracy: 0.5990\n",
            "Epoch 95/200\n",
            "18/18 [==============================] - 0s 3ms/step - loss: 0.7497 - accuracy: 0.6476 - val_loss: 0.7607 - val_accuracy: 0.5990\n",
            "Epoch 96/200\n",
            "18/18 [==============================] - 0s 3ms/step - loss: 0.7477 - accuracy: 0.6493 - val_loss: 0.7587 - val_accuracy: 0.5990\n",
            "Epoch 97/200\n",
            "18/18 [==============================] - 0s 3ms/step - loss: 0.7458 - accuracy: 0.6476 - val_loss: 0.7567 - val_accuracy: 0.5990\n",
            "Epoch 98/200\n",
            "18/18 [==============================] - 0s 3ms/step - loss: 0.7439 - accuracy: 0.6476 - val_loss: 0.7547 - val_accuracy: 0.5990\n",
            "Epoch 99/200\n",
            "18/18 [==============================] - 0s 3ms/step - loss: 0.7422 - accuracy: 0.6476 - val_loss: 0.7528 - val_accuracy: 0.6042\n",
            "Epoch 100/200\n",
            "18/18 [==============================] - 0s 3ms/step - loss: 0.7403 - accuracy: 0.6493 - val_loss: 0.7509 - val_accuracy: 0.6042\n",
            "Epoch 101/200\n",
            "18/18 [==============================] - 0s 3ms/step - loss: 0.7386 - accuracy: 0.6476 - val_loss: 0.7491 - val_accuracy: 0.6146\n",
            "Epoch 102/200\n",
            "18/18 [==============================] - 0s 3ms/step - loss: 0.7369 - accuracy: 0.6510 - val_loss: 0.7473 - val_accuracy: 0.6146\n",
            "Epoch 103/200\n",
            "18/18 [==============================] - 0s 3ms/step - loss: 0.7352 - accuracy: 0.6510 - val_loss: 0.7456 - val_accuracy: 0.6146\n",
            "Epoch 104/200\n",
            "18/18 [==============================] - 0s 3ms/step - loss: 0.7336 - accuracy: 0.6510 - val_loss: 0.7440 - val_accuracy: 0.6146\n",
            "Epoch 105/200\n",
            "18/18 [==============================] - 0s 2ms/step - loss: 0.7320 - accuracy: 0.6528 - val_loss: 0.7424 - val_accuracy: 0.6146\n",
            "Epoch 106/200\n",
            "18/18 [==============================] - 0s 3ms/step - loss: 0.7304 - accuracy: 0.6528 - val_loss: 0.7407 - val_accuracy: 0.6146\n",
            "Epoch 107/200\n",
            "18/18 [==============================] - 0s 4ms/step - loss: 0.7288 - accuracy: 0.6528 - val_loss: 0.7391 - val_accuracy: 0.6146\n",
            "Epoch 108/200\n",
            "18/18 [==============================] - 0s 3ms/step - loss: 0.7274 - accuracy: 0.6528 - val_loss: 0.7376 - val_accuracy: 0.6250\n",
            "Epoch 109/200\n",
            "18/18 [==============================] - 0s 2ms/step - loss: 0.7259 - accuracy: 0.6528 - val_loss: 0.7361 - val_accuracy: 0.6250\n",
            "Epoch 110/200\n",
            "18/18 [==============================] - 0s 4ms/step - loss: 0.7245 - accuracy: 0.6528 - val_loss: 0.7347 - val_accuracy: 0.6302\n",
            "Epoch 111/200\n",
            "18/18 [==============================] - 0s 3ms/step - loss: 0.7231 - accuracy: 0.6528 - val_loss: 0.7333 - val_accuracy: 0.6354\n",
            "Epoch 112/200\n",
            "18/18 [==============================] - 0s 3ms/step - loss: 0.7218 - accuracy: 0.6528 - val_loss: 0.7319 - val_accuracy: 0.6354\n",
            "Epoch 113/200\n",
            "18/18 [==============================] - 0s 4ms/step - loss: 0.7205 - accuracy: 0.6528 - val_loss: 0.7306 - val_accuracy: 0.6354\n",
            "Epoch 114/200\n",
            "18/18 [==============================] - 0s 4ms/step - loss: 0.7192 - accuracy: 0.6510 - val_loss: 0.7293 - val_accuracy: 0.6354\n",
            "Epoch 115/200\n",
            "18/18 [==============================] - 0s 2ms/step - loss: 0.7179 - accuracy: 0.6510 - val_loss: 0.7279 - val_accuracy: 0.6354\n",
            "Epoch 116/200\n",
            "18/18 [==============================] - 0s 3ms/step - loss: 0.7167 - accuracy: 0.6510 - val_loss: 0.7267 - val_accuracy: 0.6354\n",
            "Epoch 117/200\n",
            "18/18 [==============================] - 0s 4ms/step - loss: 0.7155 - accuracy: 0.6528 - val_loss: 0.7254 - val_accuracy: 0.6354\n",
            "Epoch 118/200\n",
            "18/18 [==============================] - 0s 4ms/step - loss: 0.7143 - accuracy: 0.6545 - val_loss: 0.7243 - val_accuracy: 0.6354\n",
            "Epoch 119/200\n",
            "18/18 [==============================] - 0s 3ms/step - loss: 0.7133 - accuracy: 0.6545 - val_loss: 0.7231 - val_accuracy: 0.6354\n",
            "Epoch 120/200\n",
            "18/18 [==============================] - 0s 3ms/step - loss: 0.7123 - accuracy: 0.6545 - val_loss: 0.7221 - val_accuracy: 0.6354\n",
            "Epoch 121/200\n",
            "18/18 [==============================] - 0s 3ms/step - loss: 0.7113 - accuracy: 0.6562 - val_loss: 0.7210 - val_accuracy: 0.6354\n",
            "Epoch 122/200\n",
            "18/18 [==============================] - 0s 3ms/step - loss: 0.7103 - accuracy: 0.6580 - val_loss: 0.7199 - val_accuracy: 0.6354\n",
            "Epoch 123/200\n",
            "18/18 [==============================] - 0s 3ms/step - loss: 0.7093 - accuracy: 0.6580 - val_loss: 0.7189 - val_accuracy: 0.6354\n",
            "Epoch 124/200\n",
            "18/18 [==============================] - 0s 2ms/step - loss: 0.7084 - accuracy: 0.6580 - val_loss: 0.7178 - val_accuracy: 0.6354\n",
            "Epoch 125/200\n",
            "18/18 [==============================] - 0s 4ms/step - loss: 0.7075 - accuracy: 0.6580 - val_loss: 0.7168 - val_accuracy: 0.6354\n",
            "Epoch 126/200\n",
            "18/18 [==============================] - 0s 3ms/step - loss: 0.7065 - accuracy: 0.6580 - val_loss: 0.7158 - val_accuracy: 0.6354\n",
            "Epoch 127/200\n",
            "18/18 [==============================] - 0s 3ms/step - loss: 0.7056 - accuracy: 0.6580 - val_loss: 0.7149 - val_accuracy: 0.6354\n",
            "Epoch 128/200\n",
            "18/18 [==============================] - 0s 2ms/step - loss: 0.7047 - accuracy: 0.6580 - val_loss: 0.7139 - val_accuracy: 0.6354\n",
            "Epoch 129/200\n",
            "18/18 [==============================] - 0s 4ms/step - loss: 0.7039 - accuracy: 0.6580 - val_loss: 0.7130 - val_accuracy: 0.6354\n",
            "Epoch 130/200\n",
            "18/18 [==============================] - 0s 3ms/step - loss: 0.7030 - accuracy: 0.6545 - val_loss: 0.7121 - val_accuracy: 0.6354\n",
            "Epoch 131/200\n",
            "18/18 [==============================] - 0s 3ms/step - loss: 0.7022 - accuracy: 0.6545 - val_loss: 0.7112 - val_accuracy: 0.6354\n",
            "Epoch 132/200\n",
            "18/18 [==============================] - 0s 3ms/step - loss: 0.7013 - accuracy: 0.6545 - val_loss: 0.7103 - val_accuracy: 0.6406\n",
            "Epoch 133/200\n",
            "18/18 [==============================] - 0s 3ms/step - loss: 0.7006 - accuracy: 0.6528 - val_loss: 0.7095 - val_accuracy: 0.6406\n",
            "Epoch 134/200\n",
            "18/18 [==============================] - 0s 3ms/step - loss: 0.6998 - accuracy: 0.6545 - val_loss: 0.7086 - val_accuracy: 0.6406\n",
            "Epoch 135/200\n",
            "18/18 [==============================] - 0s 3ms/step - loss: 0.6990 - accuracy: 0.6562 - val_loss: 0.7078 - val_accuracy: 0.6406\n",
            "Epoch 136/200\n",
            "18/18 [==============================] - 0s 2ms/step - loss: 0.6983 - accuracy: 0.6562 - val_loss: 0.7069 - val_accuracy: 0.6406\n",
            "Epoch 137/200\n",
            "18/18 [==============================] - 0s 4ms/step - loss: 0.6975 - accuracy: 0.6562 - val_loss: 0.7061 - val_accuracy: 0.6406\n",
            "Epoch 138/200\n",
            "18/18 [==============================] - 0s 3ms/step - loss: 0.6967 - accuracy: 0.6562 - val_loss: 0.7052 - val_accuracy: 0.6406\n",
            "Epoch 139/200\n",
            "18/18 [==============================] - 0s 4ms/step - loss: 0.6960 - accuracy: 0.6562 - val_loss: 0.7044 - val_accuracy: 0.6406\n",
            "Epoch 140/200\n",
            "18/18 [==============================] - 0s 4ms/step - loss: 0.6952 - accuracy: 0.6562 - val_loss: 0.7036 - val_accuracy: 0.6406\n",
            "Epoch 141/200\n",
            "18/18 [==============================] - 0s 3ms/step - loss: 0.6945 - accuracy: 0.6562 - val_loss: 0.7028 - val_accuracy: 0.6406\n",
            "Epoch 142/200\n",
            "18/18 [==============================] - 0s 3ms/step - loss: 0.6938 - accuracy: 0.6562 - val_loss: 0.7020 - val_accuracy: 0.6406\n",
            "Epoch 143/200\n",
            "18/18 [==============================] - 0s 4ms/step - loss: 0.6931 - accuracy: 0.6562 - val_loss: 0.7013 - val_accuracy: 0.6406\n",
            "Epoch 144/200\n",
            "18/18 [==============================] - 0s 4ms/step - loss: 0.6925 - accuracy: 0.6562 - val_loss: 0.7006 - val_accuracy: 0.6406\n",
            "Epoch 145/200\n",
            "18/18 [==============================] - 0s 2ms/step - loss: 0.6919 - accuracy: 0.6562 - val_loss: 0.7000 - val_accuracy: 0.6406\n",
            "Epoch 146/200\n",
            "18/18 [==============================] - 0s 4ms/step - loss: 0.6913 - accuracy: 0.6580 - val_loss: 0.6993 - val_accuracy: 0.6406\n",
            "Epoch 147/200\n",
            "18/18 [==============================] - 0s 3ms/step - loss: 0.6907 - accuracy: 0.6562 - val_loss: 0.6987 - val_accuracy: 0.6406\n",
            "Epoch 148/200\n",
            "18/18 [==============================] - 0s 3ms/step - loss: 0.6902 - accuracy: 0.6562 - val_loss: 0.6981 - val_accuracy: 0.6406\n",
            "Epoch 149/200\n",
            "18/18 [==============================] - 0s 3ms/step - loss: 0.6896 - accuracy: 0.6545 - val_loss: 0.6975 - val_accuracy: 0.6406\n",
            "Epoch 150/200\n",
            "18/18 [==============================] - 0s 3ms/step - loss: 0.6891 - accuracy: 0.6545 - val_loss: 0.6970 - val_accuracy: 0.6406\n",
            "Epoch 151/200\n",
            "18/18 [==============================] - 0s 3ms/step - loss: 0.6885 - accuracy: 0.6545 - val_loss: 0.6964 - val_accuracy: 0.6406\n",
            "Epoch 152/200\n",
            "18/18 [==============================] - 0s 3ms/step - loss: 0.6880 - accuracy: 0.6545 - val_loss: 0.6959 - val_accuracy: 0.6406\n",
            "Epoch 153/200\n",
            "18/18 [==============================] - 0s 4ms/step - loss: 0.6875 - accuracy: 0.6545 - val_loss: 0.6953 - val_accuracy: 0.6406\n",
            "Epoch 154/200\n",
            "18/18 [==============================] - 0s 3ms/step - loss: 0.6869 - accuracy: 0.6545 - val_loss: 0.6948 - val_accuracy: 0.6406\n",
            "Epoch 155/200\n",
            "18/18 [==============================] - 0s 3ms/step - loss: 0.6865 - accuracy: 0.6562 - val_loss: 0.6942 - val_accuracy: 0.6406\n",
            "Epoch 156/200\n",
            "18/18 [==============================] - 0s 3ms/step - loss: 0.6860 - accuracy: 0.6562 - val_loss: 0.6937 - val_accuracy: 0.6406\n",
            "Epoch 157/200\n",
            "18/18 [==============================] - 0s 3ms/step - loss: 0.6855 - accuracy: 0.6562 - val_loss: 0.6932 - val_accuracy: 0.6406\n",
            "Epoch 158/200\n",
            "18/18 [==============================] - 0s 3ms/step - loss: 0.6850 - accuracy: 0.6580 - val_loss: 0.6926 - val_accuracy: 0.6406\n",
            "Epoch 159/200\n",
            "18/18 [==============================] - 0s 3ms/step - loss: 0.6845 - accuracy: 0.6580 - val_loss: 0.6920 - val_accuracy: 0.6406\n",
            "Epoch 160/200\n",
            "18/18 [==============================] - 0s 3ms/step - loss: 0.6840 - accuracy: 0.6580 - val_loss: 0.6915 - val_accuracy: 0.6406\n",
            "Epoch 161/200\n",
            "18/18 [==============================] - 0s 4ms/step - loss: 0.6835 - accuracy: 0.6580 - val_loss: 0.6910 - val_accuracy: 0.6406\n",
            "Epoch 162/200\n",
            "18/18 [==============================] - 0s 3ms/step - loss: 0.6831 - accuracy: 0.6597 - val_loss: 0.6905 - val_accuracy: 0.6406\n",
            "Epoch 163/200\n",
            "18/18 [==============================] - 0s 3ms/step - loss: 0.6826 - accuracy: 0.6597 - val_loss: 0.6900 - val_accuracy: 0.6406\n",
            "Epoch 164/200\n",
            "18/18 [==============================] - 0s 4ms/step - loss: 0.6823 - accuracy: 0.6580 - val_loss: 0.6896 - val_accuracy: 0.6406\n",
            "Epoch 165/200\n",
            "18/18 [==============================] - 0s 3ms/step - loss: 0.6818 - accuracy: 0.6597 - val_loss: 0.6892 - val_accuracy: 0.6406\n",
            "Epoch 166/200\n",
            "18/18 [==============================] - 0s 4ms/step - loss: 0.6814 - accuracy: 0.6597 - val_loss: 0.6887 - val_accuracy: 0.6406\n",
            "Epoch 167/200\n",
            "18/18 [==============================] - 0s 3ms/step - loss: 0.6810 - accuracy: 0.6597 - val_loss: 0.6883 - val_accuracy: 0.6406\n",
            "Epoch 168/200\n",
            "18/18 [==============================] - 0s 3ms/step - loss: 0.6806 - accuracy: 0.6597 - val_loss: 0.6879 - val_accuracy: 0.6406\n",
            "Epoch 169/200\n",
            "18/18 [==============================] - 0s 4ms/step - loss: 0.6802 - accuracy: 0.6597 - val_loss: 0.6874 - val_accuracy: 0.6406\n",
            "Epoch 170/200\n",
            "18/18 [==============================] - 0s 3ms/step - loss: 0.6798 - accuracy: 0.6597 - val_loss: 0.6870 - val_accuracy: 0.6406\n",
            "Epoch 171/200\n",
            "18/18 [==============================] - 0s 3ms/step - loss: 0.6794 - accuracy: 0.6597 - val_loss: 0.6866 - val_accuracy: 0.6406\n",
            "Epoch 172/200\n",
            "18/18 [==============================] - 0s 3ms/step - loss: 0.6789 - accuracy: 0.6615 - val_loss: 0.6862 - val_accuracy: 0.6406\n",
            "Epoch 173/200\n",
            "18/18 [==============================] - 0s 4ms/step - loss: 0.6785 - accuracy: 0.6615 - val_loss: 0.6858 - val_accuracy: 0.6406\n",
            "Epoch 174/200\n",
            "18/18 [==============================] - 0s 3ms/step - loss: 0.6781 - accuracy: 0.6597 - val_loss: 0.6854 - val_accuracy: 0.6406\n",
            "Epoch 175/200\n",
            "18/18 [==============================] - 0s 3ms/step - loss: 0.6777 - accuracy: 0.6615 - val_loss: 0.6850 - val_accuracy: 0.6406\n",
            "Epoch 176/200\n",
            "18/18 [==============================] - 0s 3ms/step - loss: 0.6773 - accuracy: 0.6597 - val_loss: 0.6845 - val_accuracy: 0.6354\n",
            "Epoch 177/200\n",
            "18/18 [==============================] - 0s 3ms/step - loss: 0.6768 - accuracy: 0.6580 - val_loss: 0.6841 - val_accuracy: 0.6354\n",
            "Epoch 178/200\n",
            "18/18 [==============================] - 0s 3ms/step - loss: 0.6764 - accuracy: 0.6580 - val_loss: 0.6836 - val_accuracy: 0.6354\n",
            "Epoch 179/200\n",
            "18/18 [==============================] - 0s 3ms/step - loss: 0.6759 - accuracy: 0.6580 - val_loss: 0.6832 - val_accuracy: 0.6354\n",
            "Epoch 180/200\n",
            "18/18 [==============================] - 0s 3ms/step - loss: 0.6755 - accuracy: 0.6580 - val_loss: 0.6827 - val_accuracy: 0.6354\n",
            "Epoch 181/200\n",
            "18/18 [==============================] - 0s 3ms/step - loss: 0.6750 - accuracy: 0.6597 - val_loss: 0.6822 - val_accuracy: 0.6354\n",
            "Epoch 182/200\n",
            "18/18 [==============================] - 0s 3ms/step - loss: 0.6746 - accuracy: 0.6597 - val_loss: 0.6817 - val_accuracy: 0.6354\n",
            "Epoch 183/200\n",
            "18/18 [==============================] - 0s 3ms/step - loss: 0.6742 - accuracy: 0.6597 - val_loss: 0.6812 - val_accuracy: 0.6354\n",
            "Epoch 184/200\n",
            "18/18 [==============================] - 0s 3ms/step - loss: 0.6737 - accuracy: 0.6615 - val_loss: 0.6808 - val_accuracy: 0.6354\n",
            "Epoch 185/200\n",
            "18/18 [==============================] - 0s 3ms/step - loss: 0.6733 - accuracy: 0.6632 - val_loss: 0.6804 - val_accuracy: 0.6354\n",
            "Epoch 186/200\n",
            "18/18 [==============================] - 0s 3ms/step - loss: 0.6730 - accuracy: 0.6649 - val_loss: 0.6800 - val_accuracy: 0.6406\n",
            "Epoch 187/200\n",
            "18/18 [==============================] - 0s 3ms/step - loss: 0.6725 - accuracy: 0.6649 - val_loss: 0.6796 - val_accuracy: 0.6458\n",
            "Epoch 188/200\n",
            "18/18 [==============================] - 0s 3ms/step - loss: 0.6722 - accuracy: 0.6684 - val_loss: 0.6793 - val_accuracy: 0.6458\n",
            "Epoch 189/200\n",
            "18/18 [==============================] - 0s 3ms/step - loss: 0.6718 - accuracy: 0.6701 - val_loss: 0.6790 - val_accuracy: 0.6406\n",
            "Epoch 190/200\n",
            "18/18 [==============================] - 0s 3ms/step - loss: 0.6715 - accuracy: 0.6701 - val_loss: 0.6786 - val_accuracy: 0.6406\n",
            "Epoch 191/200\n",
            "18/18 [==============================] - 0s 4ms/step - loss: 0.6712 - accuracy: 0.6684 - val_loss: 0.6783 - val_accuracy: 0.6458\n",
            "Epoch 192/200\n",
            "18/18 [==============================] - 0s 3ms/step - loss: 0.6708 - accuracy: 0.6701 - val_loss: 0.6779 - val_accuracy: 0.6458\n",
            "Epoch 193/200\n",
            "18/18 [==============================] - 0s 3ms/step - loss: 0.6706 - accuracy: 0.6701 - val_loss: 0.6776 - val_accuracy: 0.6458\n",
            "Epoch 194/200\n",
            "18/18 [==============================] - 0s 4ms/step - loss: 0.6702 - accuracy: 0.6701 - val_loss: 0.6773 - val_accuracy: 0.6458\n",
            "Epoch 195/200\n",
            "18/18 [==============================] - 0s 4ms/step - loss: 0.6700 - accuracy: 0.6684 - val_loss: 0.6770 - val_accuracy: 0.6458\n",
            "Epoch 196/200\n",
            "18/18 [==============================] - 0s 3ms/step - loss: 0.6697 - accuracy: 0.6701 - val_loss: 0.6767 - val_accuracy: 0.6458\n",
            "Epoch 197/200\n",
            "18/18 [==============================] - 0s 4ms/step - loss: 0.6694 - accuracy: 0.6701 - val_loss: 0.6763 - val_accuracy: 0.6458\n",
            "Epoch 198/200\n",
            "18/18 [==============================] - 0s 3ms/step - loss: 0.6691 - accuracy: 0.6701 - val_loss: 0.6760 - val_accuracy: 0.6458\n",
            "Epoch 199/200\n",
            "18/18 [==============================] - 0s 3ms/step - loss: 0.6688 - accuracy: 0.6701 - val_loss: 0.6756 - val_accuracy: 0.6458\n",
            "Epoch 200/200\n",
            "18/18 [==============================] - 0s 3ms/step - loss: 0.6685 - accuracy: 0.6719 - val_loss: 0.6753 - val_accuracy: 0.6458\n"
          ],
          "name": "stdout"
        }
      ]
    },
    {
      "cell_type": "code",
      "metadata": {
        "id": "FGKeXwhl63pj"
      },
      "source": [
        "import matplotlib.pyplot as plt"
      ],
      "execution_count": 115,
      "outputs": []
    },
    {
      "cell_type": "code",
      "metadata": {
        "colab": {
          "base_uri": "https://localhost:8080/"
        },
        "id": "awgUQc8J684j",
        "outputId": "5bbd2caa-3b83-4cc8-eda5-1cff29c428be"
      },
      "source": [
        "history.history.keys()"
      ],
      "execution_count": 116,
      "outputs": [
        {
          "output_type": "execute_result",
          "data": {
            "text/plain": [
              "dict_keys(['loss', 'accuracy', 'val_loss', 'val_accuracy'])"
            ]
          },
          "metadata": {
            "tags": []
          },
          "execution_count": 116
        }
      ]
    },
    {
      "cell_type": "code",
      "metadata": {
        "id": "0w04F1becUlI",
        "colab": {
          "base_uri": "https://localhost:8080/",
          "height": 265
        },
        "outputId": "c2a3a6ab-cdbc-49da-f0a3-4f64c4c3d19c"
      },
      "source": [
        "plt.plot(history.history['loss'])\n",
        "plt.plot(history.history['val_loss'])\n",
        "plt.legend(['train','test'])\n",
        "plt.show()"
      ],
      "execution_count": 117,
      "outputs": [
        {
          "output_type": "display_data",
          "data": {
            "image/png": "[encoded data removed]",
            "text/plain": [
              "<Figure size 432x288 with 1 Axes>"
            ]
          },
          "metadata": {
            "tags": [],
            "needs_background": "light"
          }
        }
      ]
    },
    {
      "cell_type": "code",
      "metadata": {
        "colab": {
          "base_uri": "https://localhost:8080/",
          "height": 265
        },
        "id": "2zbaYadS61ST",
        "outputId": "aa94ee7e-7130-400e-ce96-e0e6c69500c1"
      },
      "source": [
        "plt.plot(history.history['accuracy'])\n",
        "plt.plot(history.history['val_accuracy'])\n",
        "plt.legend(['train','test'])\n",
        "plt.show()"
      ],
      "execution_count": 118,
      "outputs": [
        {
          "output_type": "display_data",
          "data": {
            "image/png": "[encoded data removed]",
            "text/plain": [
              "<Figure size 432x288 with 1 Axes>"
            ]
          },
          "metadata": {
            "tags": [],
            "needs_background": "light"
          }
        }
      ]
    },
    {
      "cell_type": "code",
      "metadata": {
        "id": "j9mX1m5D7JMK"
      },
      "source": [
        ""
      ],
      "execution_count": 118,
      "outputs": []
    }
  ]
}