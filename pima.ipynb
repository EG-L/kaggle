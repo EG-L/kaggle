{
  "nbformat": 4,
  "nbformat_minor": 0,
  "metadata": {
    "colab": {
      "name": "pima.ipynb",
      "provenance": [],
      "collapsed_sections": [],
      "mount_file_id": "1hXzLEVspuU7Xt60dI-4ecvGfYENsVzKq",
      "authorship_tag": "ABX9TyOfgEk4BgpuViwz1u89cR48",
      "include_colab_link": true
    },
    "kernelspec": {
      "name": "python3",
      "display_name": "Python 3"
    },
    "language_info": {
      "name": "python"
    }
  },
  "cells": [
    {
      "cell_type": "markdown",
      "metadata": {
        "id": "view-in-github",
        "colab_type": "text"
      },
      "source": [
        "<a href=\"https://colab.research.google.com/github/EG-L/kaggle/blob/main/pima.ipynb\" target=\"_parent\"><img src=\"https://colab.research.google.com/assets/colab-badge.svg\" alt=\"Open In Colab\"/></a>"
      ]
    },
    {
      "cell_type": "code",
      "metadata": {
        "colab": {
          "base_uri": "https://localhost:8080/"
        },
        "id": "TlWzILyrReFv",
        "outputId": "a1bd0915-3513-47d4-f1f4-4938277a9264"
      },
      "source": [
        "!unzip /content/drive/MyDrive/PimaIndiansDiabetes/pima.zip"
      ],
      "execution_count": null,
      "outputs": [
        {
          "output_type": "stream",
          "text": [
            "Archive:  /content/drive/MyDrive/PimaIndiansDiabetes/pima.zip\n",
            "replace diabetes.csv? [y]es, [n]o, [A]ll, [N]one, [r]ename: y\n",
            "  inflating: diabetes.csv            \n"
          ],
          "name": "stdout"
        }
      ]
    },
    {
      "cell_type": "code",
      "metadata": {
        "id": "RoPVFAdlRmHP"
      },
      "source": [
        "import numpy as np\n",
        "import pandas as pd"
      ],
      "execution_count": null,
      "outputs": []
    },
    {
      "cell_type": "code",
      "metadata": {
        "id": "OrZwv5AZSIUn"
      },
      "source": [
        "df = pd.read_csv('diabetes.csv')"
      ],
      "execution_count": null,
      "outputs": []
    },
    {
      "cell_type": "code",
      "metadata": {
        "colab": {
          "base_uri": "https://localhost:8080/",
          "height": 419
        },
        "id": "L4V9FJ7DSOWU",
        "outputId": "e1af3121-22a5-4047-f437-8b8a3b9246ef"
      },
      "source": [
        "df"
      ],
      "execution_count": null,
      "outputs": [
        {
          "output_type": "execute_result",
          "data": {
            "text/html": [
              "<div>\n",
              "<style scoped>\n",
              "    .dataframe tbody tr th:only-of-type {\n",
              "        vertical-align: middle;\n",
              "    }\n",
              "\n",
              "    .dataframe tbody tr th {\n",
              "        vertical-align: top;\n",
              "    }\n",
              "\n",
              "    .dataframe thead th {\n",
              "        text-align: right;\n",
              "    }\n",
              "</style>\n",
              "<table border=\"1\" class=\"dataframe\">\n",
              "  <thead>\n",
              "    <tr style=\"text-align: right;\">\n",
              "      <th></th>\n",
              "      <th>Pregnancies</th>\n",
              "      <th>Glucose</th>\n",
              "      <th>BloodPressure</th>\n",
              "      <th>SkinThickness</th>\n",
              "      <th>Insulin</th>\n",
              "      <th>BMI</th>\n",
              "      <th>DiabetesPedigreeFunction</th>\n",
              "      <th>Age</th>\n",
              "      <th>Outcome</th>\n",
              "    </tr>\n",
              "  </thead>\n",
              "  <tbody>\n",
              "    <tr>\n",
              "      <th>0</th>\n",
              "      <td>6</td>\n",
              "      <td>148</td>\n",
              "      <td>72</td>\n",
              "      <td>35</td>\n",
              "      <td>0</td>\n",
              "      <td>33.6</td>\n",
              "      <td>0.627</td>\n",
              "      <td>50</td>\n",
              "      <td>1</td>\n",
              "    </tr>\n",
              "    <tr>\n",
              "      <th>1</th>\n",
              "      <td>1</td>\n",
              "      <td>85</td>\n",
              "      <td>66</td>\n",
              "      <td>29</td>\n",
              "      <td>0</td>\n",
              "      <td>26.6</td>\n",
              "      <td>0.351</td>\n",
              "      <td>31</td>\n",
              "      <td>0</td>\n",
              "    </tr>\n",
              "    <tr>\n",
              "      <th>2</th>\n",
              "      <td>8</td>\n",
              "      <td>183</td>\n",
              "      <td>64</td>\n",
              "      <td>0</td>\n",
              "      <td>0</td>\n",
              "      <td>23.3</td>\n",
              "      <td>0.672</td>\n",
              "      <td>32</td>\n",
              "      <td>1</td>\n",
              "    </tr>\n",
              "    <tr>\n",
              "      <th>3</th>\n",
              "      <td>1</td>\n",
              "      <td>89</td>\n",
              "      <td>66</td>\n",
              "      <td>23</td>\n",
              "      <td>94</td>\n",
              "      <td>28.1</td>\n",
              "      <td>0.167</td>\n",
              "      <td>21</td>\n",
              "      <td>0</td>\n",
              "    </tr>\n",
              "    <tr>\n",
              "      <th>4</th>\n",
              "      <td>0</td>\n",
              "      <td>137</td>\n",
              "      <td>40</td>\n",
              "      <td>35</td>\n",
              "      <td>168</td>\n",
              "      <td>43.1</td>\n",
              "      <td>2.288</td>\n",
              "      <td>33</td>\n",
              "      <td>1</td>\n",
              "    </tr>\n",
              "    <tr>\n",
              "      <th>...</th>\n",
              "      <td>...</td>\n",
              "      <td>...</td>\n",
              "      <td>...</td>\n",
              "      <td>...</td>\n",
              "      <td>...</td>\n",
              "      <td>...</td>\n",
              "      <td>...</td>\n",
              "      <td>...</td>\n",
              "      <td>...</td>\n",
              "    </tr>\n",
              "    <tr>\n",
              "      <th>763</th>\n",
              "      <td>10</td>\n",
              "      <td>101</td>\n",
              "      <td>76</td>\n",
              "      <td>48</td>\n",
              "      <td>180</td>\n",
              "      <td>32.9</td>\n",
              "      <td>0.171</td>\n",
              "      <td>63</td>\n",
              "      <td>0</td>\n",
              "    </tr>\n",
              "    <tr>\n",
              "      <th>764</th>\n",
              "      <td>2</td>\n",
              "      <td>122</td>\n",
              "      <td>70</td>\n",
              "      <td>27</td>\n",
              "      <td>0</td>\n",
              "      <td>36.8</td>\n",
              "      <td>0.340</td>\n",
              "      <td>27</td>\n",
              "      <td>0</td>\n",
              "    </tr>\n",
              "    <tr>\n",
              "      <th>765</th>\n",
              "      <td>5</td>\n",
              "      <td>121</td>\n",
              "      <td>72</td>\n",
              "      <td>23</td>\n",
              "      <td>112</td>\n",
              "      <td>26.2</td>\n",
              "      <td>0.245</td>\n",
              "      <td>30</td>\n",
              "      <td>0</td>\n",
              "    </tr>\n",
              "    <tr>\n",
              "      <th>766</th>\n",
              "      <td>1</td>\n",
              "      <td>126</td>\n",
              "      <td>60</td>\n",
              "      <td>0</td>\n",
              "      <td>0</td>\n",
              "      <td>30.1</td>\n",
              "      <td>0.349</td>\n",
              "      <td>47</td>\n",
              "      <td>1</td>\n",
              "    </tr>\n",
              "    <tr>\n",
              "      <th>767</th>\n",
              "      <td>1</td>\n",
              "      <td>93</td>\n",
              "      <td>70</td>\n",
              "      <td>31</td>\n",
              "      <td>0</td>\n",
              "      <td>30.4</td>\n",
              "      <td>0.315</td>\n",
              "      <td>23</td>\n",
              "      <td>0</td>\n",
              "    </tr>\n",
              "  </tbody>\n",
              "</table>\n",
              "<p>768 rows × 9 columns</p>\n",
              "</div>"
            ],
            "text/plain": [
              "     Pregnancies  Glucose  ...  Age  Outcome\n",
              "0              6      148  ...   50        1\n",
              "1              1       85  ...   31        0\n",
              "2              8      183  ...   32        1\n",
              "3              1       89  ...   21        0\n",
              "4              0      137  ...   33        1\n",
              "..           ...      ...  ...  ...      ...\n",
              "763           10      101  ...   63        0\n",
              "764            2      122  ...   27        0\n",
              "765            5      121  ...   30        0\n",
              "766            1      126  ...   47        1\n",
              "767            1       93  ...   23        0\n",
              "\n",
              "[768 rows x 9 columns]"
            ]
          },
          "metadata": {
            "tags": []
          },
          "execution_count": 102
        }
      ]
    },
    {
      "cell_type": "code",
      "metadata": {
        "id": "pLHtv3gOSUjw"
      },
      "source": [
        "from tensorflow import keras\n",
        "from sklearn.model_selection import train_test_split\n",
        "from tensorflow.keras.models import Sequential\n",
        "from tensorflow.keras.layers import Dense"
      ],
      "execution_count": null,
      "outputs": []
    },
    {
      "cell_type": "code",
      "metadata": {
        "colab": {
          "base_uri": "https://localhost:8080/"
        },
        "id": "P6f0AjaXSd9_",
        "outputId": "cc45f893-dbd0-4a64-8ac1-20ccc7955807"
      },
      "source": [
        "df.isna().sum()"
      ],
      "execution_count": null,
      "outputs": [
        {
          "output_type": "execute_result",
          "data": {
            "text/plain": [
              "Pregnancies                 0\n",
              "Glucose                     0\n",
              "BloodPressure               0\n",
              "SkinThickness               0\n",
              "Insulin                     0\n",
              "BMI                         0\n",
              "DiabetesPedigreeFunction    0\n",
              "Age                         0\n",
              "Outcome                     0\n",
              "dtype: int64"
            ]
          },
          "metadata": {
            "tags": []
          },
          "execution_count": 104
        }
      ]
    },
    {
      "cell_type": "code",
      "metadata": {
        "colab": {
          "base_uri": "https://localhost:8080/",
          "height": 297
        },
        "id": "Uf2Fim42TSn5",
        "outputId": "dcfdb84e-2590-40ec-b3c6-0c0bb44b3cdc"
      },
      "source": [
        "df.describe()"
      ],
      "execution_count": null,
      "outputs": [
        {
          "output_type": "execute_result",
          "data": {
            "text/html": [
              "<div>\n",
              "<style scoped>\n",
              "    .dataframe tbody tr th:only-of-type {\n",
              "        vertical-align: middle;\n",
              "    }\n",
              "\n",
              "    .dataframe tbody tr th {\n",
              "        vertical-align: top;\n",
              "    }\n",
              "\n",
              "    .dataframe thead th {\n",
              "        text-align: right;\n",
              "    }\n",
              "</style>\n",
              "<table border=\"1\" class=\"dataframe\">\n",
              "  <thead>\n",
              "    <tr style=\"text-align: right;\">\n",
              "      <th></th>\n",
              "      <th>Pregnancies</th>\n",
              "      <th>Glucose</th>\n",
              "      <th>BloodPressure</th>\n",
              "      <th>SkinThickness</th>\n",
              "      <th>Insulin</th>\n",
              "      <th>BMI</th>\n",
              "      <th>DiabetesPedigreeFunction</th>\n",
              "      <th>Age</th>\n",
              "      <th>Outcome</th>\n",
              "    </tr>\n",
              "  </thead>\n",
              "  <tbody>\n",
              "    <tr>\n",
              "      <th>count</th>\n",
              "      <td>768.000000</td>\n",
              "      <td>768.000000</td>\n",
              "      <td>768.000000</td>\n",
              "      <td>768.000000</td>\n",
              "      <td>768.000000</td>\n",
              "      <td>768.000000</td>\n",
              "      <td>768.000000</td>\n",
              "      <td>768.000000</td>\n",
              "      <td>768.000000</td>\n",
              "    </tr>\n",
              "    <tr>\n",
              "      <th>mean</th>\n",
              "      <td>3.845052</td>\n",
              "      <td>120.894531</td>\n",
              "      <td>69.105469</td>\n",
              "      <td>20.536458</td>\n",
              "      <td>79.799479</td>\n",
              "      <td>31.992578</td>\n",
              "      <td>0.471876</td>\n",
              "      <td>33.240885</td>\n",
              "      <td>0.348958</td>\n",
              "    </tr>\n",
              "    <tr>\n",
              "      <th>std</th>\n",
              "      <td>3.369578</td>\n",
              "      <td>31.972618</td>\n",
              "      <td>19.355807</td>\n",
              "      <td>15.952218</td>\n",
              "      <td>115.244002</td>\n",
              "      <td>7.884160</td>\n",
              "      <td>0.331329</td>\n",
              "      <td>11.760232</td>\n",
              "      <td>0.476951</td>\n",
              "    </tr>\n",
              "    <tr>\n",
              "      <th>min</th>\n",
              "      <td>0.000000</td>\n",
              "      <td>0.000000</td>\n",
              "      <td>0.000000</td>\n",
              "      <td>0.000000</td>\n",
              "      <td>0.000000</td>\n",
              "      <td>0.000000</td>\n",
              "      <td>0.078000</td>\n",
              "      <td>21.000000</td>\n",
              "      <td>0.000000</td>\n",
              "    </tr>\n",
              "    <tr>\n",
              "      <th>25%</th>\n",
              "      <td>1.000000</td>\n",
              "      <td>99.000000</td>\n",
              "      <td>62.000000</td>\n",
              "      <td>0.000000</td>\n",
              "      <td>0.000000</td>\n",
              "      <td>27.300000</td>\n",
              "      <td>0.243750</td>\n",
              "      <td>24.000000</td>\n",
              "      <td>0.000000</td>\n",
              "    </tr>\n",
              "    <tr>\n",
              "      <th>50%</th>\n",
              "      <td>3.000000</td>\n",
              "      <td>117.000000</td>\n",
              "      <td>72.000000</td>\n",
              "      <td>23.000000</td>\n",
              "      <td>30.500000</td>\n",
              "      <td>32.000000</td>\n",
              "      <td>0.372500</td>\n",
              "      <td>29.000000</td>\n",
              "      <td>0.000000</td>\n",
              "    </tr>\n",
              "    <tr>\n",
              "      <th>75%</th>\n",
              "      <td>6.000000</td>\n",
              "      <td>140.250000</td>\n",
              "      <td>80.000000</td>\n",
              "      <td>32.000000</td>\n",
              "      <td>127.250000</td>\n",
              "      <td>36.600000</td>\n",
              "      <td>0.626250</td>\n",
              "      <td>41.000000</td>\n",
              "      <td>1.000000</td>\n",
              "    </tr>\n",
              "    <tr>\n",
              "      <th>max</th>\n",
              "      <td>17.000000</td>\n",
              "      <td>199.000000</td>\n",
              "      <td>122.000000</td>\n",
              "      <td>99.000000</td>\n",
              "      <td>846.000000</td>\n",
              "      <td>67.100000</td>\n",
              "      <td>2.420000</td>\n",
              "      <td>81.000000</td>\n",
              "      <td>1.000000</td>\n",
              "    </tr>\n",
              "  </tbody>\n",
              "</table>\n",
              "</div>"
            ],
            "text/plain": [
              "       Pregnancies     Glucose  ...         Age     Outcome\n",
              "count   768.000000  768.000000  ...  768.000000  768.000000\n",
              "mean      3.845052  120.894531  ...   33.240885    0.348958\n",
              "std       3.369578   31.972618  ...   11.760232    0.476951\n",
              "min       0.000000    0.000000  ...   21.000000    0.000000\n",
              "25%       1.000000   99.000000  ...   24.000000    0.000000\n",
              "50%       3.000000  117.000000  ...   29.000000    0.000000\n",
              "75%       6.000000  140.250000  ...   41.000000    1.000000\n",
              "max      17.000000  199.000000  ...   81.000000    1.000000\n",
              "\n",
              "[8 rows x 9 columns]"
            ]
          },
          "metadata": {
            "tags": []
          },
          "execution_count": 105
        }
      ]
    },
    {
      "cell_type": "code",
      "metadata": {
        "colab": {
          "base_uri": "https://localhost:8080/"
        },
        "id": "RYw7bLJJTUUv",
        "outputId": "ab82ea99-49e7-4713-9b17-6368d3312280"
      },
      "source": [
        "df.info()"
      ],
      "execution_count": null,
      "outputs": [
        {
          "output_type": "stream",
          "text": [
            "<class 'pandas.core.frame.DataFrame'>\n",
            "RangeIndex: 768 entries, 0 to 767\n",
            "Data columns (total 9 columns):\n",
            " #   Column                    Non-Null Count  Dtype  \n",
            "---  ------                    --------------  -----  \n",
            " 0   Pregnancies               768 non-null    int64  \n",
            " 1   Glucose                   768 non-null    int64  \n",
            " 2   BloodPressure             768 non-null    int64  \n",
            " 3   SkinThickness             768 non-null    int64  \n",
            " 4   Insulin                   768 non-null    int64  \n",
            " 5   BMI                       768 non-null    float64\n",
            " 6   DiabetesPedigreeFunction  768 non-null    float64\n",
            " 7   Age                       768 non-null    int64  \n",
            " 8   Outcome                   768 non-null    int64  \n",
            "dtypes: float64(2), int64(7)\n",
            "memory usage: 54.1 KB\n"
          ],
          "name": "stdout"
        }
      ]
    },
    {
      "cell_type": "code",
      "metadata": {
        "id": "J2OxbrhHTVuq"
      },
      "source": [
        "X = df.drop(['Outcome'],axis=1)\n",
        "y = df['Outcome']"
      ],
      "execution_count": null,
      "outputs": []
    },
    {
      "cell_type": "code",
      "metadata": {
        "id": "QNHcoYYYTfQX"
      },
      "source": [
        "X_train,X_test,y_train,y_test = train_test_split(X,y,random_state=42)"
      ],
      "execution_count": null,
      "outputs": []
    },
    {
      "cell_type": "code",
      "metadata": {
        "colab": {
          "base_uri": "https://localhost:8080/"
        },
        "id": "YU9QLDOSTvLn",
        "outputId": "b0a6a4d5-98e6-49eb-d607-6ea6c41c9d9a"
      },
      "source": [
        "print(X_train.shape,y_train.shape)"
      ],
      "execution_count": null,
      "outputs": [
        {
          "output_type": "stream",
          "text": [
            "(576, 8) (576,)\n"
          ],
          "name": "stdout"
        }
      ]
    },
    {
      "cell_type": "code",
      "metadata": {
        "colab": {
          "base_uri": "https://localhost:8080/"
        },
        "id": "hJQyRwZ1UJbH",
        "outputId": "756926ac-2784-46f1-eb27-4868b7d5d975"
      },
      "source": [
        "print(X_test.shape,y_test.shape)"
      ],
      "execution_count": null,
      "outputs": [
        {
          "output_type": "stream",
          "text": [
            "(192, 8) (192,)\n"
          ],
          "name": "stdout"
        }
      ]
    },
    {
      "cell_type": "code",
      "metadata": {
        "colab": {
          "base_uri": "https://localhost:8080/"
        },
        "id": "VflmpgrGUOp7",
        "outputId": "0738ed5c-63c0-4ea0-dc73-c17591ac5bba"
      },
      "source": [
        "np.unique(y_train,return_counts=True)\n",
        "# 이진분류 마지막 계층 활성화 함수 sigmoid"
      ],
      "execution_count": null,
      "outputs": [
        {
          "output_type": "execute_result",
          "data": {
            "text/plain": [
              "(array([0, 1]), array([377, 199]))"
            ]
          },
          "metadata": {
            "tags": []
          },
          "execution_count": 111
        }
      ]
    },
    {
      "cell_type": "code",
      "metadata": {
        "id": "U8mcgYvPVd_d"
      },
      "source": [
        "model = keras.Sequential()\n",
        "model.add(Dense(8, input_shape=(8,),activation='relu'))\n",
        "model.add(Dense(16,activation='relu'))\n",
        "model.add(Dense(8,activation='relu'))\n",
        "model.add(Dense(1,activation='sigmoid'))"
      ],
      "execution_count": 126,
      "outputs": []
    },
    {
      "cell_type": "code",
      "metadata": {
        "colab": {
          "base_uri": "https://localhost:8080/"
        },
        "id": "Skj4mIVz2SVM",
        "outputId": "1bde7b8a-ff50-4964-d001-cfdd958cf7e7"
      },
      "source": [
        "model.summary()"
      ],
      "execution_count": 127,
      "outputs": [
        {
          "output_type": "stream",
          "text": [
            "Model: \"sequential_9\"\n",
            "_________________________________________________________________\n",
            "Layer (type)                 Output Shape              Param #   \n",
            "=================================================================\n",
            "dense_27 (Dense)             (None, 8)                 72        \n",
            "_________________________________________________________________\n",
            "dense_28 (Dense)             (None, 16)                144       \n",
            "_________________________________________________________________\n",
            "dense_29 (Dense)             (None, 8)                 136       \n",
            "_________________________________________________________________\n",
            "dense_30 (Dense)             (None, 1)                 9         \n",
            "=================================================================\n",
            "Total params: 361\n",
            "Trainable params: 361\n",
            "Non-trainable params: 0\n",
            "_________________________________________________________________\n"
          ],
          "name": "stdout"
        }
      ]
    },
    {
      "cell_type": "code",
      "metadata": {
        "colab": {
          "base_uri": "https://localhost:8080/"
        },
        "id": "xLyAFi5vbb8v",
        "outputId": "722d9d77-8d7b-45e1-b10e-4878044215a0"
      },
      "source": [
        "model.compile(optimizer='adagrad',loss='binary_crossentropy',metrics=['accuracy'])\n",
        "history = model.fit(X_train,y_train,epochs=200,validation_data=(X_test,y_test))"
      ],
      "execution_count": 128,
      "outputs": [
        {
          "output_type": "stream",
          "text": [
            "Epoch 1/200\n",
            "18/18 [==============================] - 1s 11ms/step - loss: 1.9075 - accuracy: 0.3611 - val_loss: 1.6911 - val_accuracy: 0.4271\n",
            "Epoch 2/200\n",
            "18/18 [==============================] - 0s 2ms/step - loss: 1.6291 - accuracy: 0.3854 - val_loss: 1.5278 - val_accuracy: 0.4375\n",
            "Epoch 3/200\n",
            "18/18 [==============================] - 0s 2ms/step - loss: 1.4936 - accuracy: 0.3906 - val_loss: 1.4204 - val_accuracy: 0.4427\n",
            "Epoch 4/200\n",
            "18/18 [==============================] - 0s 4ms/step - loss: 1.3971 - accuracy: 0.3993 - val_loss: 1.3419 - val_accuracy: 0.4323\n",
            "Epoch 5/200\n",
            "18/18 [==============================] - 0s 2ms/step - loss: 1.3237 - accuracy: 0.4028 - val_loss: 1.2793 - val_accuracy: 0.4375\n",
            "Epoch 6/200\n",
            "18/18 [==============================] - 0s 3ms/step - loss: 1.2644 - accuracy: 0.4028 - val_loss: 1.2272 - val_accuracy: 0.4427\n",
            "Epoch 7/200\n",
            "18/18 [==============================] - 0s 3ms/step - loss: 1.2144 - accuracy: 0.4010 - val_loss: 1.1833 - val_accuracy: 0.4375\n",
            "Epoch 8/200\n",
            "18/18 [==============================] - 0s 4ms/step - loss: 1.1722 - accuracy: 0.4080 - val_loss: 1.1461 - val_accuracy: 0.4271\n",
            "Epoch 9/200\n",
            "18/18 [==============================] - 0s 2ms/step - loss: 1.1355 - accuracy: 0.4028 - val_loss: 1.1143 - val_accuracy: 0.4323\n",
            "Epoch 10/200\n",
            "18/18 [==============================] - 0s 3ms/step - loss: 1.1049 - accuracy: 0.4062 - val_loss: 1.0875 - val_accuracy: 0.4219\n",
            "Epoch 11/200\n",
            "18/18 [==============================] - 0s 4ms/step - loss: 1.0804 - accuracy: 0.4149 - val_loss: 1.0653 - val_accuracy: 0.4167\n",
            "Epoch 12/200\n",
            "18/18 [==============================] - 0s 4ms/step - loss: 1.0587 - accuracy: 0.4097 - val_loss: 1.0458 - val_accuracy: 0.4271\n",
            "Epoch 13/200\n",
            "18/18 [==============================] - 0s 3ms/step - loss: 1.0396 - accuracy: 0.4167 - val_loss: 1.0284 - val_accuracy: 0.4375\n",
            "Epoch 14/200\n",
            "18/18 [==============================] - 0s 3ms/step - loss: 1.0224 - accuracy: 0.4149 - val_loss: 1.0128 - val_accuracy: 0.4375\n",
            "Epoch 15/200\n",
            "18/18 [==============================] - 0s 2ms/step - loss: 1.0076 - accuracy: 0.4184 - val_loss: 0.9985 - val_accuracy: 0.4375\n",
            "Epoch 16/200\n",
            "18/18 [==============================] - 0s 4ms/step - loss: 0.9931 - accuracy: 0.4201 - val_loss: 0.9855 - val_accuracy: 0.4271\n",
            "Epoch 17/200\n",
            "18/18 [==============================] - 0s 4ms/step - loss: 0.9806 - accuracy: 0.4306 - val_loss: 0.9735 - val_accuracy: 0.4323\n",
            "Epoch 18/200\n",
            "18/18 [==============================] - 0s 3ms/step - loss: 0.9688 - accuracy: 0.4306 - val_loss: 0.9625 - val_accuracy: 0.4323\n",
            "Epoch 19/200\n",
            "18/18 [==============================] - 0s 4ms/step - loss: 0.9573 - accuracy: 0.4288 - val_loss: 0.9519 - val_accuracy: 0.4323\n",
            "Epoch 20/200\n",
            "18/18 [==============================] - 0s 3ms/step - loss: 0.9465 - accuracy: 0.4253 - val_loss: 0.9418 - val_accuracy: 0.4323\n",
            "Epoch 21/200\n",
            "18/18 [==============================] - 0s 3ms/step - loss: 0.9344 - accuracy: 0.4306 - val_loss: 0.9240 - val_accuracy: 0.4271\n",
            "Epoch 22/200\n",
            "18/18 [==============================] - 0s 3ms/step - loss: 0.9161 - accuracy: 0.4358 - val_loss: 0.9035 - val_accuracy: 0.4271\n",
            "Epoch 23/200\n",
            "18/18 [==============================] - 0s 2ms/step - loss: 0.8935 - accuracy: 0.4358 - val_loss: 0.8788 - val_accuracy: 0.4479\n",
            "Epoch 24/200\n",
            "18/18 [==============================] - 0s 3ms/step - loss: 0.8727 - accuracy: 0.4323 - val_loss: 0.8594 - val_accuracy: 0.4583\n",
            "Epoch 25/200\n",
            "18/18 [==============================] - 0s 3ms/step - loss: 0.8549 - accuracy: 0.4392 - val_loss: 0.8435 - val_accuracy: 0.4583\n",
            "Epoch 26/200\n",
            "18/18 [==============================] - 0s 3ms/step - loss: 0.8402 - accuracy: 0.4340 - val_loss: 0.8297 - val_accuracy: 0.4635\n",
            "Epoch 27/200\n",
            "18/18 [==============================] - 0s 4ms/step - loss: 0.8277 - accuracy: 0.4340 - val_loss: 0.8176 - val_accuracy: 0.4740\n",
            "Epoch 28/200\n",
            "18/18 [==============================] - 0s 3ms/step - loss: 0.8166 - accuracy: 0.4375 - val_loss: 0.8067 - val_accuracy: 0.4792\n",
            "Epoch 29/200\n",
            "18/18 [==============================] - 0s 3ms/step - loss: 0.8067 - accuracy: 0.4410 - val_loss: 0.7969 - val_accuracy: 0.4844\n",
            "Epoch 30/200\n",
            "18/18 [==============================] - 0s 2ms/step - loss: 0.7977 - accuracy: 0.4514 - val_loss: 0.7882 - val_accuracy: 0.4948\n",
            "Epoch 31/200\n",
            "18/18 [==============================] - 0s 2ms/step - loss: 0.7892 - accuracy: 0.4549 - val_loss: 0.7802 - val_accuracy: 0.5000\n",
            "Epoch 32/200\n",
            "18/18 [==============================] - 0s 2ms/step - loss: 0.7818 - accuracy: 0.4635 - val_loss: 0.7731 - val_accuracy: 0.5104\n",
            "Epoch 33/200\n",
            "18/18 [==============================] - 0s 3ms/step - loss: 0.7753 - accuracy: 0.4635 - val_loss: 0.7667 - val_accuracy: 0.5156\n",
            "Epoch 34/200\n",
            "18/18 [==============================] - 0s 3ms/step - loss: 0.7690 - accuracy: 0.4653 - val_loss: 0.7608 - val_accuracy: 0.5365\n",
            "Epoch 35/200\n",
            "18/18 [==============================] - 0s 3ms/step - loss: 0.7636 - accuracy: 0.4757 - val_loss: 0.7556 - val_accuracy: 0.5417\n",
            "Epoch 36/200\n",
            "18/18 [==============================] - 0s 3ms/step - loss: 0.7586 - accuracy: 0.4774 - val_loss: 0.7507 - val_accuracy: 0.5417\n",
            "Epoch 37/200\n",
            "18/18 [==============================] - 0s 2ms/step - loss: 0.7541 - accuracy: 0.4861 - val_loss: 0.7462 - val_accuracy: 0.5521\n",
            "Epoch 38/200\n",
            "18/18 [==============================] - 0s 3ms/step - loss: 0.7496 - accuracy: 0.4913 - val_loss: 0.7423 - val_accuracy: 0.5573\n",
            "Epoch 39/200\n",
            "18/18 [==============================] - 0s 3ms/step - loss: 0.7459 - accuracy: 0.4965 - val_loss: 0.7386 - val_accuracy: 0.5573\n",
            "Epoch 40/200\n",
            "18/18 [==============================] - 0s 3ms/step - loss: 0.7424 - accuracy: 0.5069 - val_loss: 0.7353 - val_accuracy: 0.5573\n",
            "Epoch 41/200\n",
            "18/18 [==============================] - 0s 3ms/step - loss: 0.7393 - accuracy: 0.5208 - val_loss: 0.7323 - val_accuracy: 0.5677\n",
            "Epoch 42/200\n",
            "18/18 [==============================] - 0s 3ms/step - loss: 0.7363 - accuracy: 0.5208 - val_loss: 0.7296 - val_accuracy: 0.5729\n",
            "Epoch 43/200\n",
            "18/18 [==============================] - 0s 2ms/step - loss: 0.7338 - accuracy: 0.5260 - val_loss: 0.7271 - val_accuracy: 0.5677\n",
            "Epoch 44/200\n",
            "18/18 [==============================] - 0s 2ms/step - loss: 0.7316 - accuracy: 0.5365 - val_loss: 0.7249 - val_accuracy: 0.5677\n",
            "Epoch 45/200\n",
            "18/18 [==============================] - 0s 3ms/step - loss: 0.7293 - accuracy: 0.5399 - val_loss: 0.7229 - val_accuracy: 0.5625\n",
            "Epoch 46/200\n",
            "18/18 [==============================] - 0s 3ms/step - loss: 0.7273 - accuracy: 0.5451 - val_loss: 0.7211 - val_accuracy: 0.5625\n",
            "Epoch 47/200\n",
            "18/18 [==============================] - 0s 3ms/step - loss: 0.7256 - accuracy: 0.5521 - val_loss: 0.7194 - val_accuracy: 0.5781\n",
            "Epoch 48/200\n",
            "18/18 [==============================] - 0s 3ms/step - loss: 0.7238 - accuracy: 0.5590 - val_loss: 0.7179 - val_accuracy: 0.5781\n",
            "Epoch 49/200\n",
            "18/18 [==============================] - 0s 3ms/step - loss: 0.7224 - accuracy: 0.5538 - val_loss: 0.7165 - val_accuracy: 0.5938\n",
            "Epoch 50/200\n",
            "18/18 [==============================] - 0s 2ms/step - loss: 0.7212 - accuracy: 0.5642 - val_loss: 0.7152 - val_accuracy: 0.5938\n",
            "Epoch 51/200\n",
            "18/18 [==============================] - 0s 3ms/step - loss: 0.7200 - accuracy: 0.5712 - val_loss: 0.7140 - val_accuracy: 0.6146\n",
            "Epoch 52/200\n",
            "18/18 [==============================] - 0s 3ms/step - loss: 0.7187 - accuracy: 0.5712 - val_loss: 0.7129 - val_accuracy: 0.6250\n",
            "Epoch 53/200\n",
            "18/18 [==============================] - 0s 2ms/step - loss: 0.7174 - accuracy: 0.5694 - val_loss: 0.7118 - val_accuracy: 0.6354\n",
            "Epoch 54/200\n",
            "18/18 [==============================] - 0s 3ms/step - loss: 0.7164 - accuracy: 0.5694 - val_loss: 0.7108 - val_accuracy: 0.6354\n",
            "Epoch 55/200\n",
            "18/18 [==============================] - 0s 3ms/step - loss: 0.7154 - accuracy: 0.5885 - val_loss: 0.7099 - val_accuracy: 0.6354\n",
            "Epoch 56/200\n",
            "18/18 [==============================] - 0s 3ms/step - loss: 0.7145 - accuracy: 0.5972 - val_loss: 0.7090 - val_accuracy: 0.6354\n",
            "Epoch 57/200\n",
            "18/18 [==============================] - 0s 3ms/step - loss: 0.7135 - accuracy: 0.6059 - val_loss: 0.7082 - val_accuracy: 0.6458\n",
            "Epoch 58/200\n",
            "18/18 [==============================] - 0s 4ms/step - loss: 0.7125 - accuracy: 0.6198 - val_loss: 0.7074 - val_accuracy: 0.6667\n",
            "Epoch 59/200\n",
            "18/18 [==============================] - 0s 3ms/step - loss: 0.7118 - accuracy: 0.6163 - val_loss: 0.7066 - val_accuracy: 0.6667\n",
            "Epoch 60/200\n",
            "18/18 [==============================] - 0s 3ms/step - loss: 0.7109 - accuracy: 0.6146 - val_loss: 0.7058 - val_accuracy: 0.6615\n",
            "Epoch 61/200\n",
            "18/18 [==============================] - 0s 3ms/step - loss: 0.7101 - accuracy: 0.6337 - val_loss: 0.7051 - val_accuracy: 0.6510\n",
            "Epoch 62/200\n",
            "18/18 [==============================] - 0s 3ms/step - loss: 0.7092 - accuracy: 0.6389 - val_loss: 0.7044 - val_accuracy: 0.6458\n",
            "Epoch 63/200\n",
            "18/18 [==============================] - 0s 3ms/step - loss: 0.7084 - accuracy: 0.6372 - val_loss: 0.7037 - val_accuracy: 0.6510\n",
            "Epoch 64/200\n",
            "18/18 [==============================] - 0s 3ms/step - loss: 0.7076 - accuracy: 0.6476 - val_loss: 0.7031 - val_accuracy: 0.6510\n",
            "Epoch 65/200\n",
            "18/18 [==============================] - 0s 3ms/step - loss: 0.7069 - accuracy: 0.6597 - val_loss: 0.7024 - val_accuracy: 0.6510\n",
            "Epoch 66/200\n",
            "18/18 [==============================] - 0s 3ms/step - loss: 0.7062 - accuracy: 0.6545 - val_loss: 0.7018 - val_accuracy: 0.6458\n",
            "Epoch 67/200\n",
            "18/18 [==============================] - 0s 4ms/step - loss: 0.7054 - accuracy: 0.6528 - val_loss: 0.7012 - val_accuracy: 0.6406\n",
            "Epoch 68/200\n",
            "18/18 [==============================] - 0s 3ms/step - loss: 0.7048 - accuracy: 0.6580 - val_loss: 0.7006 - val_accuracy: 0.6354\n",
            "Epoch 69/200\n",
            "18/18 [==============================] - 0s 3ms/step - loss: 0.7040 - accuracy: 0.6580 - val_loss: 0.7000 - val_accuracy: 0.6354\n",
            "Epoch 70/200\n",
            "18/18 [==============================] - 0s 2ms/step - loss: 0.7034 - accuracy: 0.6580 - val_loss: 0.6994 - val_accuracy: 0.6302\n",
            "Epoch 71/200\n",
            "18/18 [==============================] - 0s 2ms/step - loss: 0.7027 - accuracy: 0.6597 - val_loss: 0.6989 - val_accuracy: 0.6354\n",
            "Epoch 72/200\n",
            "18/18 [==============================] - 0s 4ms/step - loss: 0.7021 - accuracy: 0.6597 - val_loss: 0.6983 - val_accuracy: 0.6406\n",
            "Epoch 73/200\n",
            "18/18 [==============================] - 0s 4ms/step - loss: 0.7015 - accuracy: 0.6562 - val_loss: 0.6977 - val_accuracy: 0.6458\n",
            "Epoch 74/200\n",
            "18/18 [==============================] - 0s 3ms/step - loss: 0.7009 - accuracy: 0.6580 - val_loss: 0.6972 - val_accuracy: 0.6458\n",
            "Epoch 75/200\n",
            "18/18 [==============================] - 0s 3ms/step - loss: 0.7003 - accuracy: 0.6562 - val_loss: 0.6967 - val_accuracy: 0.6406\n",
            "Epoch 76/200\n",
            "18/18 [==============================] - 0s 2ms/step - loss: 0.6997 - accuracy: 0.6580 - val_loss: 0.6962 - val_accuracy: 0.6406\n",
            "Epoch 77/200\n",
            "18/18 [==============================] - 0s 2ms/step - loss: 0.6991 - accuracy: 0.6615 - val_loss: 0.6956 - val_accuracy: 0.6406\n",
            "Epoch 78/200\n",
            "18/18 [==============================] - 0s 3ms/step - loss: 0.6985 - accuracy: 0.6597 - val_loss: 0.6951 - val_accuracy: 0.6406\n",
            "Epoch 79/200\n",
            "18/18 [==============================] - 0s 4ms/step - loss: 0.6980 - accuracy: 0.6667 - val_loss: 0.6947 - val_accuracy: 0.6406\n",
            "Epoch 80/200\n",
            "18/18 [==============================] - 0s 2ms/step - loss: 0.6974 - accuracy: 0.6615 - val_loss: 0.6942 - val_accuracy: 0.6406\n",
            "Epoch 81/200\n",
            "18/18 [==============================] - 0s 3ms/step - loss: 0.6970 - accuracy: 0.6632 - val_loss: 0.6938 - val_accuracy: 0.6406\n",
            "Epoch 82/200\n",
            "18/18 [==============================] - 0s 3ms/step - loss: 0.6964 - accuracy: 0.6615 - val_loss: 0.6933 - val_accuracy: 0.6406\n",
            "Epoch 83/200\n",
            "18/18 [==============================] - 0s 3ms/step - loss: 0.6959 - accuracy: 0.6649 - val_loss: 0.6929 - val_accuracy: 0.6354\n",
            "Epoch 84/200\n",
            "18/18 [==============================] - 0s 3ms/step - loss: 0.6953 - accuracy: 0.6615 - val_loss: 0.6924 - val_accuracy: 0.6354\n",
            "Epoch 85/200\n",
            "18/18 [==============================] - 0s 3ms/step - loss: 0.6947 - accuracy: 0.6649 - val_loss: 0.6919 - val_accuracy: 0.6354\n",
            "Epoch 86/200\n",
            "18/18 [==============================] - 0s 2ms/step - loss: 0.6943 - accuracy: 0.6632 - val_loss: 0.6915 - val_accuracy: 0.6354\n",
            "Epoch 87/200\n",
            "18/18 [==============================] - 0s 2ms/step - loss: 0.6937 - accuracy: 0.6632 - val_loss: 0.6910 - val_accuracy: 0.6302\n",
            "Epoch 88/200\n",
            "18/18 [==============================] - 0s 2ms/step - loss: 0.6933 - accuracy: 0.6632 - val_loss: 0.6906 - val_accuracy: 0.6302\n",
            "Epoch 89/200\n",
            "18/18 [==============================] - 0s 4ms/step - loss: 0.6928 - accuracy: 0.6615 - val_loss: 0.6902 - val_accuracy: 0.6302\n",
            "Epoch 90/200\n",
            "18/18 [==============================] - 0s 3ms/step - loss: 0.6923 - accuracy: 0.6597 - val_loss: 0.6897 - val_accuracy: 0.6302\n",
            "Epoch 91/200\n",
            "18/18 [==============================] - 0s 3ms/step - loss: 0.6919 - accuracy: 0.6649 - val_loss: 0.6893 - val_accuracy: 0.6302\n",
            "Epoch 92/200\n",
            "18/18 [==============================] - 0s 3ms/step - loss: 0.6912 - accuracy: 0.6649 - val_loss: 0.6889 - val_accuracy: 0.6302\n",
            "Epoch 93/200\n",
            "18/18 [==============================] - 0s 4ms/step - loss: 0.6909 - accuracy: 0.6667 - val_loss: 0.6884 - val_accuracy: 0.6302\n",
            "Epoch 94/200\n",
            "18/18 [==============================] - 0s 3ms/step - loss: 0.6905 - accuracy: 0.6649 - val_loss: 0.6880 - val_accuracy: 0.6302\n",
            "Epoch 95/200\n",
            "18/18 [==============================] - 0s 3ms/step - loss: 0.6899 - accuracy: 0.6684 - val_loss: 0.6876 - val_accuracy: 0.6302\n",
            "Epoch 96/200\n",
            "18/18 [==============================] - 0s 3ms/step - loss: 0.6895 - accuracy: 0.6667 - val_loss: 0.6873 - val_accuracy: 0.6302\n",
            "Epoch 97/200\n",
            "18/18 [==============================] - 0s 3ms/step - loss: 0.6890 - accuracy: 0.6649 - val_loss: 0.6869 - val_accuracy: 0.6302\n",
            "Epoch 98/200\n",
            "18/18 [==============================] - 0s 3ms/step - loss: 0.6886 - accuracy: 0.6632 - val_loss: 0.6865 - val_accuracy: 0.6302\n",
            "Epoch 99/200\n",
            "18/18 [==============================] - 0s 3ms/step - loss: 0.6881 - accuracy: 0.6667 - val_loss: 0.6861 - val_accuracy: 0.6302\n",
            "Epoch 100/200\n",
            "18/18 [==============================] - 0s 3ms/step - loss: 0.6877 - accuracy: 0.6632 - val_loss: 0.6857 - val_accuracy: 0.6302\n",
            "Epoch 101/200\n",
            "18/18 [==============================] - 0s 3ms/step - loss: 0.6873 - accuracy: 0.6736 - val_loss: 0.6854 - val_accuracy: 0.6302\n",
            "Epoch 102/200\n",
            "18/18 [==============================] - 0s 3ms/step - loss: 0.6867 - accuracy: 0.6684 - val_loss: 0.6850 - val_accuracy: 0.6302\n",
            "Epoch 103/200\n",
            "18/18 [==============================] - 0s 2ms/step - loss: 0.6864 - accuracy: 0.6719 - val_loss: 0.6847 - val_accuracy: 0.6302\n",
            "Epoch 104/200\n",
            "18/18 [==============================] - 0s 3ms/step - loss: 0.6859 - accuracy: 0.6719 - val_loss: 0.6843 - val_accuracy: 0.6302\n",
            "Epoch 105/200\n",
            "18/18 [==============================] - 0s 3ms/step - loss: 0.6856 - accuracy: 0.6701 - val_loss: 0.6839 - val_accuracy: 0.6302\n",
            "Epoch 106/200\n",
            "18/18 [==============================] - 0s 2ms/step - loss: 0.6853 - accuracy: 0.6701 - val_loss: 0.6836 - val_accuracy: 0.6302\n",
            "Epoch 107/200\n",
            "18/18 [==============================] - 0s 3ms/step - loss: 0.6847 - accuracy: 0.6684 - val_loss: 0.6832 - val_accuracy: 0.6302\n",
            "Epoch 108/200\n",
            "18/18 [==============================] - 0s 3ms/step - loss: 0.6842 - accuracy: 0.6649 - val_loss: 0.6828 - val_accuracy: 0.6302\n",
            "Epoch 109/200\n",
            "18/18 [==============================] - 0s 3ms/step - loss: 0.6838 - accuracy: 0.6684 - val_loss: 0.6824 - val_accuracy: 0.6302\n",
            "Epoch 110/200\n",
            "18/18 [==============================] - 0s 3ms/step - loss: 0.6834 - accuracy: 0.6684 - val_loss: 0.6820 - val_accuracy: 0.6302\n",
            "Epoch 111/200\n",
            "18/18 [==============================] - 0s 3ms/step - loss: 0.6830 - accuracy: 0.6701 - val_loss: 0.6816 - val_accuracy: 0.6302\n",
            "Epoch 112/200\n",
            "18/18 [==============================] - 0s 3ms/step - loss: 0.6824 - accuracy: 0.6701 - val_loss: 0.6811 - val_accuracy: 0.6302\n",
            "Epoch 113/200\n",
            "18/18 [==============================] - 0s 3ms/step - loss: 0.6820 - accuracy: 0.6667 - val_loss: 0.6807 - val_accuracy: 0.6302\n",
            "Epoch 114/200\n",
            "18/18 [==============================] - 0s 3ms/step - loss: 0.6815 - accuracy: 0.6684 - val_loss: 0.6803 - val_accuracy: 0.6302\n",
            "Epoch 115/200\n",
            "18/18 [==============================] - 0s 3ms/step - loss: 0.6812 - accuracy: 0.6649 - val_loss: 0.6799 - val_accuracy: 0.6302\n",
            "Epoch 116/200\n",
            "18/18 [==============================] - 0s 3ms/step - loss: 0.6807 - accuracy: 0.6701 - val_loss: 0.6795 - val_accuracy: 0.6302\n",
            "Epoch 117/200\n",
            "18/18 [==============================] - 0s 3ms/step - loss: 0.6802 - accuracy: 0.6667 - val_loss: 0.6791 - val_accuracy: 0.6302\n",
            "Epoch 118/200\n",
            "18/18 [==============================] - 0s 4ms/step - loss: 0.6799 - accuracy: 0.6719 - val_loss: 0.6787 - val_accuracy: 0.6302\n",
            "Epoch 119/200\n",
            "18/18 [==============================] - 0s 4ms/step - loss: 0.6794 - accuracy: 0.6684 - val_loss: 0.6783 - val_accuracy: 0.6302\n",
            "Epoch 120/200\n",
            "18/18 [==============================] - 0s 4ms/step - loss: 0.6791 - accuracy: 0.6684 - val_loss: 0.6779 - val_accuracy: 0.6302\n",
            "Epoch 121/200\n",
            "18/18 [==============================] - 0s 3ms/step - loss: 0.6786 - accuracy: 0.6667 - val_loss: 0.6775 - val_accuracy: 0.6302\n",
            "Epoch 122/200\n",
            "18/18 [==============================] - 0s 3ms/step - loss: 0.6783 - accuracy: 0.6701 - val_loss: 0.6772 - val_accuracy: 0.6302\n",
            "Epoch 123/200\n",
            "18/18 [==============================] - 0s 3ms/step - loss: 0.6779 - accuracy: 0.6719 - val_loss: 0.6768 - val_accuracy: 0.6302\n",
            "Epoch 124/200\n",
            "18/18 [==============================] - 0s 3ms/step - loss: 0.6776 - accuracy: 0.6736 - val_loss: 0.6764 - val_accuracy: 0.6302\n",
            "Epoch 125/200\n",
            "18/18 [==============================] - 0s 3ms/step - loss: 0.6771 - accuracy: 0.6684 - val_loss: 0.6761 - val_accuracy: 0.6354\n",
            "Epoch 126/200\n",
            "18/18 [==============================] - 0s 3ms/step - loss: 0.6768 - accuracy: 0.6701 - val_loss: 0.6757 - val_accuracy: 0.6354\n",
            "Epoch 127/200\n",
            "18/18 [==============================] - 0s 3ms/step - loss: 0.6765 - accuracy: 0.6684 - val_loss: 0.6753 - val_accuracy: 0.6354\n",
            "Epoch 128/200\n",
            "18/18 [==============================] - 0s 3ms/step - loss: 0.6760 - accuracy: 0.6719 - val_loss: 0.6749 - val_accuracy: 0.6354\n",
            "Epoch 129/200\n",
            "18/18 [==============================] - 0s 3ms/step - loss: 0.6757 - accuracy: 0.6684 - val_loss: 0.6746 - val_accuracy: 0.6354\n",
            "Epoch 130/200\n",
            "18/18 [==============================] - 0s 4ms/step - loss: 0.6754 - accuracy: 0.6719 - val_loss: 0.6742 - val_accuracy: 0.6354\n",
            "Epoch 131/200\n",
            "18/18 [==============================] - 0s 3ms/step - loss: 0.6749 - accuracy: 0.6719 - val_loss: 0.6739 - val_accuracy: 0.6354\n",
            "Epoch 132/200\n",
            "18/18 [==============================] - 0s 3ms/step - loss: 0.6746 - accuracy: 0.6719 - val_loss: 0.6735 - val_accuracy: 0.6354\n",
            "Epoch 133/200\n",
            "18/18 [==============================] - 0s 4ms/step - loss: 0.6741 - accuracy: 0.6684 - val_loss: 0.6732 - val_accuracy: 0.6354\n",
            "Epoch 134/200\n",
            "18/18 [==============================] - 0s 3ms/step - loss: 0.6738 - accuracy: 0.6701 - val_loss: 0.6729 - val_accuracy: 0.6406\n",
            "Epoch 135/200\n",
            "18/18 [==============================] - 0s 3ms/step - loss: 0.6734 - accuracy: 0.6701 - val_loss: 0.6725 - val_accuracy: 0.6406\n",
            "Epoch 136/200\n",
            "18/18 [==============================] - 0s 4ms/step - loss: 0.6732 - accuracy: 0.6719 - val_loss: 0.6722 - val_accuracy: 0.6406\n",
            "Epoch 137/200\n",
            "18/18 [==============================] - 0s 3ms/step - loss: 0.6727 - accuracy: 0.6684 - val_loss: 0.6719 - val_accuracy: 0.6406\n",
            "Epoch 138/200\n",
            "18/18 [==============================] - 0s 4ms/step - loss: 0.6724 - accuracy: 0.6719 - val_loss: 0.6716 - val_accuracy: 0.6406\n",
            "Epoch 139/200\n",
            "18/18 [==============================] - 0s 3ms/step - loss: 0.6721 - accuracy: 0.6701 - val_loss: 0.6713 - val_accuracy: 0.6406\n",
            "Epoch 140/200\n",
            "18/18 [==============================] - 0s 2ms/step - loss: 0.6717 - accuracy: 0.6667 - val_loss: 0.6711 - val_accuracy: 0.6406\n",
            "Epoch 141/200\n",
            "18/18 [==============================] - 0s 4ms/step - loss: 0.6714 - accuracy: 0.6684 - val_loss: 0.6708 - val_accuracy: 0.6406\n",
            "Epoch 142/200\n",
            "18/18 [==============================] - 0s 3ms/step - loss: 0.6709 - accuracy: 0.6684 - val_loss: 0.6705 - val_accuracy: 0.6406\n",
            "Epoch 143/200\n",
            "18/18 [==============================] - 0s 4ms/step - loss: 0.6706 - accuracy: 0.6701 - val_loss: 0.6703 - val_accuracy: 0.6406\n",
            "Epoch 144/200\n",
            "18/18 [==============================] - 0s 3ms/step - loss: 0.6703 - accuracy: 0.6701 - val_loss: 0.6701 - val_accuracy: 0.6406\n",
            "Epoch 145/200\n",
            "18/18 [==============================] - 0s 3ms/step - loss: 0.6700 - accuracy: 0.6719 - val_loss: 0.6698 - val_accuracy: 0.6406\n",
            "Epoch 146/200\n",
            "18/18 [==============================] - 0s 3ms/step - loss: 0.6696 - accuracy: 0.6684 - val_loss: 0.6696 - val_accuracy: 0.6354\n",
            "Epoch 147/200\n",
            "18/18 [==============================] - 0s 3ms/step - loss: 0.6692 - accuracy: 0.6719 - val_loss: 0.6693 - val_accuracy: 0.6354\n",
            "Epoch 148/200\n",
            "18/18 [==============================] - 0s 3ms/step - loss: 0.6689 - accuracy: 0.6701 - val_loss: 0.6691 - val_accuracy: 0.6354\n",
            "Epoch 149/200\n",
            "18/18 [==============================] - 0s 3ms/step - loss: 0.6687 - accuracy: 0.6701 - val_loss: 0.6689 - val_accuracy: 0.6354\n",
            "Epoch 150/200\n",
            "18/18 [==============================] - 0s 3ms/step - loss: 0.6684 - accuracy: 0.6719 - val_loss: 0.6686 - val_accuracy: 0.6354\n",
            "Epoch 151/200\n",
            "18/18 [==============================] - 0s 4ms/step - loss: 0.6680 - accuracy: 0.6701 - val_loss: 0.6684 - val_accuracy: 0.6354\n",
            "Epoch 152/200\n",
            "18/18 [==============================] - 0s 3ms/step - loss: 0.6677 - accuracy: 0.6684 - val_loss: 0.6682 - val_accuracy: 0.6354\n",
            "Epoch 153/200\n",
            "18/18 [==============================] - 0s 3ms/step - loss: 0.6675 - accuracy: 0.6684 - val_loss: 0.6679 - val_accuracy: 0.6354\n",
            "Epoch 154/200\n",
            "18/18 [==============================] - 0s 3ms/step - loss: 0.6671 - accuracy: 0.6701 - val_loss: 0.6677 - val_accuracy: 0.6354\n",
            "Epoch 155/200\n",
            "18/18 [==============================] - 0s 2ms/step - loss: 0.6669 - accuracy: 0.6701 - val_loss: 0.6675 - val_accuracy: 0.6354\n",
            "Epoch 156/200\n",
            "18/18 [==============================] - 0s 3ms/step - loss: 0.6666 - accuracy: 0.6701 - val_loss: 0.6672 - val_accuracy: 0.6354\n",
            "Epoch 157/200\n",
            "18/18 [==============================] - 0s 3ms/step - loss: 0.6662 - accuracy: 0.6719 - val_loss: 0.6670 - val_accuracy: 0.6354\n",
            "Epoch 158/200\n",
            "18/18 [==============================] - 0s 3ms/step - loss: 0.6660 - accuracy: 0.6719 - val_loss: 0.6668 - val_accuracy: 0.6354\n",
            "Epoch 159/200\n",
            "18/18 [==============================] - 0s 4ms/step - loss: 0.6657 - accuracy: 0.6719 - val_loss: 0.6665 - val_accuracy: 0.6354\n",
            "Epoch 160/200\n",
            "18/18 [==============================] - 0s 2ms/step - loss: 0.6654 - accuracy: 0.6719 - val_loss: 0.6663 - val_accuracy: 0.6354\n",
            "Epoch 161/200\n",
            "18/18 [==============================] - 0s 3ms/step - loss: 0.6651 - accuracy: 0.6736 - val_loss: 0.6660 - val_accuracy: 0.6354\n",
            "Epoch 162/200\n",
            "18/18 [==============================] - 0s 3ms/step - loss: 0.6648 - accuracy: 0.6736 - val_loss: 0.6658 - val_accuracy: 0.6354\n",
            "Epoch 163/200\n",
            "18/18 [==============================] - 0s 3ms/step - loss: 0.6645 - accuracy: 0.6736 - val_loss: 0.6656 - val_accuracy: 0.6354\n",
            "Epoch 164/200\n",
            "18/18 [==============================] - 0s 3ms/step - loss: 0.6642 - accuracy: 0.6719 - val_loss: 0.6654 - val_accuracy: 0.6354\n",
            "Epoch 165/200\n",
            "18/18 [==============================] - 0s 3ms/step - loss: 0.6640 - accuracy: 0.6736 - val_loss: 0.6652 - val_accuracy: 0.6354\n",
            "Epoch 166/200\n",
            "18/18 [==============================] - 0s 3ms/step - loss: 0.6637 - accuracy: 0.6719 - val_loss: 0.6649 - val_accuracy: 0.6354\n",
            "Epoch 167/200\n",
            "18/18 [==============================] - 0s 4ms/step - loss: 0.6634 - accuracy: 0.6753 - val_loss: 0.6647 - val_accuracy: 0.6354\n",
            "Epoch 168/200\n",
            "18/18 [==============================] - 0s 3ms/step - loss: 0.6631 - accuracy: 0.6719 - val_loss: 0.6644 - val_accuracy: 0.6354\n",
            "Epoch 169/200\n",
            "18/18 [==============================] - 0s 4ms/step - loss: 0.6629 - accuracy: 0.6753 - val_loss: 0.6642 - val_accuracy: 0.6354\n",
            "Epoch 170/200\n",
            "18/18 [==============================] - 0s 4ms/step - loss: 0.6626 - accuracy: 0.6753 - val_loss: 0.6640 - val_accuracy: 0.6354\n",
            "Epoch 171/200\n",
            "18/18 [==============================] - 0s 4ms/step - loss: 0.6625 - accuracy: 0.6736 - val_loss: 0.6637 - val_accuracy: 0.6354\n",
            "Epoch 172/200\n",
            "18/18 [==============================] - 0s 3ms/step - loss: 0.6621 - accuracy: 0.6736 - val_loss: 0.6635 - val_accuracy: 0.6354\n",
            "Epoch 173/200\n",
            "18/18 [==============================] - 0s 3ms/step - loss: 0.6618 - accuracy: 0.6771 - val_loss: 0.6633 - val_accuracy: 0.6354\n",
            "Epoch 174/200\n",
            "18/18 [==============================] - 0s 3ms/step - loss: 0.6616 - accuracy: 0.6736 - val_loss: 0.6631 - val_accuracy: 0.6406\n",
            "Epoch 175/200\n",
            "18/18 [==============================] - 0s 2ms/step - loss: 0.6613 - accuracy: 0.6736 - val_loss: 0.6628 - val_accuracy: 0.6406\n",
            "Epoch 176/200\n",
            "18/18 [==============================] - 0s 3ms/step - loss: 0.6610 - accuracy: 0.6719 - val_loss: 0.6626 - val_accuracy: 0.6406\n",
            "Epoch 177/200\n",
            "18/18 [==============================] - 0s 3ms/step - loss: 0.6608 - accuracy: 0.6771 - val_loss: 0.6624 - val_accuracy: 0.6406\n",
            "Epoch 178/200\n",
            "18/18 [==============================] - 0s 3ms/step - loss: 0.6605 - accuracy: 0.6753 - val_loss: 0.6622 - val_accuracy: 0.6406\n",
            "Epoch 179/200\n",
            "18/18 [==============================] - 0s 4ms/step - loss: 0.6603 - accuracy: 0.6771 - val_loss: 0.6620 - val_accuracy: 0.6406\n",
            "Epoch 180/200\n",
            "18/18 [==============================] - 0s 4ms/step - loss: 0.6600 - accuracy: 0.6788 - val_loss: 0.6618 - val_accuracy: 0.6406\n",
            "Epoch 181/200\n",
            "18/18 [==============================] - 0s 3ms/step - loss: 0.6597 - accuracy: 0.6753 - val_loss: 0.6616 - val_accuracy: 0.6406\n",
            "Epoch 182/200\n",
            "18/18 [==============================] - 0s 3ms/step - loss: 0.6595 - accuracy: 0.6753 - val_loss: 0.6614 - val_accuracy: 0.6406\n",
            "Epoch 183/200\n",
            "18/18 [==============================] - 0s 4ms/step - loss: 0.6593 - accuracy: 0.6771 - val_loss: 0.6611 - val_accuracy: 0.6406\n",
            "Epoch 184/200\n",
            "18/18 [==============================] - 0s 3ms/step - loss: 0.6591 - accuracy: 0.6736 - val_loss: 0.6609 - val_accuracy: 0.6406\n",
            "Epoch 185/200\n",
            "18/18 [==============================] - 0s 4ms/step - loss: 0.6588 - accuracy: 0.6771 - val_loss: 0.6607 - val_accuracy: 0.6406\n",
            "Epoch 186/200\n",
            "18/18 [==============================] - 0s 3ms/step - loss: 0.6585 - accuracy: 0.6753 - val_loss: 0.6605 - val_accuracy: 0.6406\n",
            "Epoch 187/200\n",
            "18/18 [==============================] - 0s 3ms/step - loss: 0.6583 - accuracy: 0.6753 - val_loss: 0.6603 - val_accuracy: 0.6406\n",
            "Epoch 188/200\n",
            "18/18 [==============================] - 0s 4ms/step - loss: 0.6581 - accuracy: 0.6771 - val_loss: 0.6601 - val_accuracy: 0.6406\n",
            "Epoch 189/200\n",
            "18/18 [==============================] - 0s 2ms/step - loss: 0.6579 - accuracy: 0.6753 - val_loss: 0.6599 - val_accuracy: 0.6406\n",
            "Epoch 190/200\n",
            "18/18 [==============================] - 0s 3ms/step - loss: 0.6576 - accuracy: 0.6771 - val_loss: 0.6597 - val_accuracy: 0.6406\n",
            "Epoch 191/200\n",
            "18/18 [==============================] - 0s 3ms/step - loss: 0.6573 - accuracy: 0.6771 - val_loss: 0.6595 - val_accuracy: 0.6406\n",
            "Epoch 192/200\n",
            "18/18 [==============================] - 0s 4ms/step - loss: 0.6571 - accuracy: 0.6753 - val_loss: 0.6593 - val_accuracy: 0.6406\n",
            "Epoch 193/200\n",
            "18/18 [==============================] - 0s 3ms/step - loss: 0.6570 - accuracy: 0.6771 - val_loss: 0.6591 - val_accuracy: 0.6406\n",
            "Epoch 194/200\n",
            "18/18 [==============================] - 0s 3ms/step - loss: 0.6567 - accuracy: 0.6771 - val_loss: 0.6589 - val_accuracy: 0.6406\n",
            "Epoch 195/200\n",
            "18/18 [==============================] - 0s 3ms/step - loss: 0.6564 - accuracy: 0.6753 - val_loss: 0.6588 - val_accuracy: 0.6406\n",
            "Epoch 196/200\n",
            "18/18 [==============================] - 0s 3ms/step - loss: 0.6562 - accuracy: 0.6753 - val_loss: 0.6586 - val_accuracy: 0.6406\n",
            "Epoch 197/200\n",
            "18/18 [==============================] - 0s 4ms/step - loss: 0.6560 - accuracy: 0.6736 - val_loss: 0.6584 - val_accuracy: 0.6406\n",
            "Epoch 198/200\n",
            "18/18 [==============================] - 0s 3ms/step - loss: 0.6558 - accuracy: 0.6753 - val_loss: 0.6582 - val_accuracy: 0.6406\n",
            "Epoch 199/200\n",
            "18/18 [==============================] - 0s 4ms/step - loss: 0.6557 - accuracy: 0.6771 - val_loss: 0.6580 - val_accuracy: 0.6406\n",
            "Epoch 200/200\n",
            "18/18 [==============================] - 0s 3ms/step - loss: 0.6553 - accuracy: 0.6753 - val_loss: 0.6578 - val_accuracy: 0.6406\n"
          ],
          "name": "stdout"
        }
      ]
    },
    {
      "cell_type": "code",
      "metadata": {
        "id": "FGKeXwhl63pj"
      },
      "source": [
        "import matplotlib.pyplot as plt"
      ],
      "execution_count": 129,
      "outputs": []
    },
    {
      "cell_type": "code",
      "metadata": {
        "colab": {
          "base_uri": "https://localhost:8080/"
        },
        "id": "awgUQc8J684j",
        "outputId": "c1d734dd-cc51-4acb-8b4d-f9c87a99759e"
      },
      "source": [
        "history.history.keys()"
      ],
      "execution_count": 130,
      "outputs": [
        {
          "output_type": "execute_result",
          "data": {
            "text/plain": [
              "dict_keys(['loss', 'accuracy', 'val_loss', 'val_accuracy'])"
            ]
          },
          "metadata": {
            "tags": []
          },
          "execution_count": 130
        }
      ]
    },
    {
      "cell_type": "code",
      "metadata": {
        "id": "0w04F1becUlI",
        "colab": {
          "base_uri": "https://localhost:8080/",
          "height": 265
        },
        "outputId": "c40f78cc-00f2-4719-9120-b52a6b3bfd91"
      },
      "source": [
        "plt.plot(history.history['loss'])\n",
        "plt.plot(history.history['val_loss'])\n",
        "plt.legend(['train','test'])\n",
        "plt.show()"
      ],
      "execution_count": 131,
      "outputs": [
        {
          "output_type": "display_data",
          "data": {
            "image/png": "[encoded data removed]",
            "text/plain": [
              "<Figure size 432x288 with 1 Axes>"
            ]
          },
          "metadata": {
            "tags": [],
            "needs_background": "light"
          }
        }
      ]
    },
    {
      "cell_type": "code",
      "metadata": {
        "colab": {
          "base_uri": "https://localhost:8080/",
          "height": 265
        },
        "id": "2zbaYadS61ST",
        "outputId": "fb055402-f4d8-46a5-a362-92b435d4e96a"
      },
      "source": [
        "plt.plot(history.history['accuracy'])\n",
        "plt.plot(history.history['val_accuracy'])\n",
        "plt.legend(['train','test'])\n",
        "plt.show()"
      ],
      "execution_count": 132,
      "outputs": [
        {
          "output_type": "display_data",
          "data": {
            "image/png": "[encoded data removed]",
            "text/plain": [
              "<Figure size 432x288 with 1 Axes>"
            ]
          },
          "metadata": {
            "tags": [],
            "needs_background": "light"
          }
        }
      ]
    },
    {
      "cell_type": "code",
      "metadata": {
        "colab": {
          "base_uri": "https://localhost:8080/"
        },
        "id": "ByCILqpcHAL9",
        "outputId": "8a10ad42-6f4e-4613-aa29-09d996d3f268"
      },
      "source": [
        "model.evaluate(X_test,y_test)"
      ],
      "execution_count": 133,
      "outputs": [
        {
          "output_type": "stream",
          "text": [
            "6/6 [==============================] - 0s 2ms/step - loss: 0.6578 - accuracy: 0.6406\n"
          ],
          "name": "stdout"
        },
        {
          "output_type": "execute_result",
          "data": {
            "text/plain": [
              "[0.6578471064567566, 0.640625]"
            ]
          },
          "metadata": {
            "tags": []
          },
          "execution_count": 133
        }
      ]
    },
    {
      "cell_type": "code",
      "metadata": {
        "id": "1SK7uY7UI0ZO"
      },
      "source": [
        ""
      ],
      "execution_count": null,
      "outputs": []
    }
  ]
}